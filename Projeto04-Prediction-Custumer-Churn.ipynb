{
 "cells": [
  {
   "cell_type": "markdown",
   "metadata": {},
   "source": [
    "# Prevendo Customer Churn em Operadoras de Telecom"
   ]
  },
  {
   "cell_type": "markdown",
   "metadata": {},
   "source": [
    "Data: 11, de Novembro de 2021"
   ]
  },
  {
   "cell_type": "markdown",
   "metadata": {},
   "source": [
    "###### Descrição do problema:\n",
    "Neste projeto vamos realizar uma previssão do Customer Churn de uma operadora de Telecom"
   ]
  },
  {
   "cell_type": "markdown",
   "metadata": {},
   "source": [
    "Customer Churn (ou Rotatividade de Clientes, em uma tradução livre)\n",
    "refere-se a uma decisão tomada pelo cliente sobre o término do relacionamento \n",
    "comercial. Refere-se também à perda de clientes."
   ]
  },
  {
   "cell_type": "markdown",
   "metadata": {},
   "source": [
    "Como principal desafio, será necessario criar um modelo classificativo para extrair a informação se um cliente vai cancelar seu \n",
    "plano (Sim ou Não) e a probabilidade de uma opção ou outra.\n"
   ]
  },
  {
   "cell_type": "markdown",
   "metadata": {},
   "source": [
    "## Importação dos Pacotes Necessarios"
   ]
  },
  {
   "cell_type": "code",
   "execution_count": 1,
   "metadata": {},
   "outputs": [],
   "source": [
    "import warnings\n",
    "warnings.filterwarnings(\"ignore\")\n",
    "import pandas as pd\n",
    "import numpy as np\n",
    "import matplotlib.pyplot as plt\n",
    "import seaborn as sns\n",
    "from sklearn.preprocessing import MinMaxScaler\n",
    "from sklearn.preprocessing import StandardScaler\n",
    "from imblearn.over_sampling import SMOTE\n",
    "from sklearn.feature_selection import RFE\n",
    "import xgboost as xgb\n",
    "from mlxtend.feature_selection import SequentialFeatureSelector as SFS\n",
    "from sklearn.model_selection import GridSearchCV\n",
    "from sklearn.model_selection import train_test_split\n",
    "from sklearn.metrics import roc_auc_score, accuracy_score\n",
    "from sklearn.model_selection import KFold\n",
    "from sklearn.model_selection import cross_val_score\n",
    "from sklearn.linear_model import LogisticRegression\n",
    "from sklearn.tree import DecisionTreeClassifier\n",
    "from sklearn.neighbors import KNeighborsClassifier\n",
    "from sklearn.discriminant_analysis import LinearDiscriminantAnalysis\n",
    "from sklearn.naive_bayes import GaussianNB\n",
    "from sklearn.svm import SVC\n",
    "from sklearn.metrics import classification_report, confusion_matrix\n",
    "from sklearn.metrics import auc\n",
    "from sklearn.metrics import roc_auc_score\n",
    "from sklearn.metrics import roc_curve"
   ]
  },
  {
   "cell_type": "markdown",
   "metadata": {},
   "source": [
    "## Carregando os Dados"
   ]
  },
  {
   "cell_type": "code",
   "execution_count": 2,
   "metadata": {},
   "outputs": [
    {
     "data": {
      "text/html": [
       "<div>\n",
       "<style scoped>\n",
       "    .dataframe tbody tr th:only-of-type {\n",
       "        vertical-align: middle;\n",
       "    }\n",
       "\n",
       "    .dataframe tbody tr th {\n",
       "        vertical-align: top;\n",
       "    }\n",
       "\n",
       "    .dataframe thead th {\n",
       "        text-align: right;\n",
       "    }\n",
       "</style>\n",
       "<table border=\"1\" class=\"dataframe\">\n",
       "  <thead>\n",
       "    <tr style=\"text-align: right;\">\n",
       "      <th></th>\n",
       "      <th>Unnamed: 0</th>\n",
       "      <th>state</th>\n",
       "      <th>account_length</th>\n",
       "      <th>area_code</th>\n",
       "      <th>international_plan</th>\n",
       "      <th>voice_mail_plan</th>\n",
       "      <th>number_vmail_messages</th>\n",
       "      <th>total_day_minutes</th>\n",
       "      <th>total_day_calls</th>\n",
       "      <th>total_day_charge</th>\n",
       "      <th>...</th>\n",
       "      <th>total_eve_calls</th>\n",
       "      <th>total_eve_charge</th>\n",
       "      <th>total_night_minutes</th>\n",
       "      <th>total_night_calls</th>\n",
       "      <th>total_night_charge</th>\n",
       "      <th>total_intl_minutes</th>\n",
       "      <th>total_intl_calls</th>\n",
       "      <th>total_intl_charge</th>\n",
       "      <th>number_customer_service_calls</th>\n",
       "      <th>churn</th>\n",
       "    </tr>\n",
       "  </thead>\n",
       "  <tbody>\n",
       "    <tr>\n",
       "      <th>0</th>\n",
       "      <td>1</td>\n",
       "      <td>KS</td>\n",
       "      <td>128</td>\n",
       "      <td>area_code_415</td>\n",
       "      <td>no</td>\n",
       "      <td>yes</td>\n",
       "      <td>25</td>\n",
       "      <td>265.1</td>\n",
       "      <td>110</td>\n",
       "      <td>45.07</td>\n",
       "      <td>...</td>\n",
       "      <td>99</td>\n",
       "      <td>16.78</td>\n",
       "      <td>244.7</td>\n",
       "      <td>91</td>\n",
       "      <td>11.01</td>\n",
       "      <td>10.0</td>\n",
       "      <td>3</td>\n",
       "      <td>2.70</td>\n",
       "      <td>1</td>\n",
       "      <td>no</td>\n",
       "    </tr>\n",
       "    <tr>\n",
       "      <th>1</th>\n",
       "      <td>2</td>\n",
       "      <td>OH</td>\n",
       "      <td>107</td>\n",
       "      <td>area_code_415</td>\n",
       "      <td>no</td>\n",
       "      <td>yes</td>\n",
       "      <td>26</td>\n",
       "      <td>161.6</td>\n",
       "      <td>123</td>\n",
       "      <td>27.47</td>\n",
       "      <td>...</td>\n",
       "      <td>103</td>\n",
       "      <td>16.62</td>\n",
       "      <td>254.4</td>\n",
       "      <td>103</td>\n",
       "      <td>11.45</td>\n",
       "      <td>13.7</td>\n",
       "      <td>3</td>\n",
       "      <td>3.70</td>\n",
       "      <td>1</td>\n",
       "      <td>no</td>\n",
       "    </tr>\n",
       "    <tr>\n",
       "      <th>2</th>\n",
       "      <td>3</td>\n",
       "      <td>NJ</td>\n",
       "      <td>137</td>\n",
       "      <td>area_code_415</td>\n",
       "      <td>no</td>\n",
       "      <td>no</td>\n",
       "      <td>0</td>\n",
       "      <td>243.4</td>\n",
       "      <td>114</td>\n",
       "      <td>41.38</td>\n",
       "      <td>...</td>\n",
       "      <td>110</td>\n",
       "      <td>10.30</td>\n",
       "      <td>162.6</td>\n",
       "      <td>104</td>\n",
       "      <td>7.32</td>\n",
       "      <td>12.2</td>\n",
       "      <td>5</td>\n",
       "      <td>3.29</td>\n",
       "      <td>0</td>\n",
       "      <td>no</td>\n",
       "    </tr>\n",
       "    <tr>\n",
       "      <th>3</th>\n",
       "      <td>4</td>\n",
       "      <td>OH</td>\n",
       "      <td>84</td>\n",
       "      <td>area_code_408</td>\n",
       "      <td>yes</td>\n",
       "      <td>no</td>\n",
       "      <td>0</td>\n",
       "      <td>299.4</td>\n",
       "      <td>71</td>\n",
       "      <td>50.90</td>\n",
       "      <td>...</td>\n",
       "      <td>88</td>\n",
       "      <td>5.26</td>\n",
       "      <td>196.9</td>\n",
       "      <td>89</td>\n",
       "      <td>8.86</td>\n",
       "      <td>6.6</td>\n",
       "      <td>7</td>\n",
       "      <td>1.78</td>\n",
       "      <td>2</td>\n",
       "      <td>no</td>\n",
       "    </tr>\n",
       "    <tr>\n",
       "      <th>4</th>\n",
       "      <td>5</td>\n",
       "      <td>OK</td>\n",
       "      <td>75</td>\n",
       "      <td>area_code_415</td>\n",
       "      <td>yes</td>\n",
       "      <td>no</td>\n",
       "      <td>0</td>\n",
       "      <td>166.7</td>\n",
       "      <td>113</td>\n",
       "      <td>28.34</td>\n",
       "      <td>...</td>\n",
       "      <td>122</td>\n",
       "      <td>12.61</td>\n",
       "      <td>186.9</td>\n",
       "      <td>121</td>\n",
       "      <td>8.41</td>\n",
       "      <td>10.1</td>\n",
       "      <td>3</td>\n",
       "      <td>2.73</td>\n",
       "      <td>3</td>\n",
       "      <td>no</td>\n",
       "    </tr>\n",
       "  </tbody>\n",
       "</table>\n",
       "<p>5 rows × 21 columns</p>\n",
       "</div>"
      ],
      "text/plain": [
       "   Unnamed: 0 state  account_length      area_code international_plan  \\\n",
       "0           1    KS             128  area_code_415                 no   \n",
       "1           2    OH             107  area_code_415                 no   \n",
       "2           3    NJ             137  area_code_415                 no   \n",
       "3           4    OH              84  area_code_408                yes   \n",
       "4           5    OK              75  area_code_415                yes   \n",
       "\n",
       "  voice_mail_plan  number_vmail_messages  total_day_minutes  total_day_calls  \\\n",
       "0             yes                     25              265.1              110   \n",
       "1             yes                     26              161.6              123   \n",
       "2              no                      0              243.4              114   \n",
       "3              no                      0              299.4               71   \n",
       "4              no                      0              166.7              113   \n",
       "\n",
       "   total_day_charge  ...  total_eve_calls  total_eve_charge  \\\n",
       "0             45.07  ...               99             16.78   \n",
       "1             27.47  ...              103             16.62   \n",
       "2             41.38  ...              110             10.30   \n",
       "3             50.90  ...               88              5.26   \n",
       "4             28.34  ...              122             12.61   \n",
       "\n",
       "   total_night_minutes  total_night_calls  total_night_charge  \\\n",
       "0                244.7                 91               11.01   \n",
       "1                254.4                103               11.45   \n",
       "2                162.6                104                7.32   \n",
       "3                196.9                 89                8.86   \n",
       "4                186.9                121                8.41   \n",
       "\n",
       "   total_intl_minutes  total_intl_calls  total_intl_charge  \\\n",
       "0                10.0                 3               2.70   \n",
       "1                13.7                 3               3.70   \n",
       "2                12.2                 5               3.29   \n",
       "3                 6.6                 7               1.78   \n",
       "4                10.1                 3               2.73   \n",
       "\n",
       "   number_customer_service_calls  churn  \n",
       "0                              1     no  \n",
       "1                              1     no  \n",
       "2                              0     no  \n",
       "3                              2     no  \n",
       "4                              3     no  \n",
       "\n",
       "[5 rows x 21 columns]"
      ]
     },
     "execution_count": 2,
     "metadata": {},
     "output_type": "execute_result"
    }
   ],
   "source": [
    "train = pd.read_csv('dataset/projeto4_telecom_treino.csv')\n",
    "train.head()"
   ]
  },
  {
   "cell_type": "code",
   "execution_count": 3,
   "metadata": {},
   "outputs": [
    {
     "data": {
      "text/html": [
       "<div>\n",
       "<style scoped>\n",
       "    .dataframe tbody tr th:only-of-type {\n",
       "        vertical-align: middle;\n",
       "    }\n",
       "\n",
       "    .dataframe tbody tr th {\n",
       "        vertical-align: top;\n",
       "    }\n",
       "\n",
       "    .dataframe thead th {\n",
       "        text-align: right;\n",
       "    }\n",
       "</style>\n",
       "<table border=\"1\" class=\"dataframe\">\n",
       "  <thead>\n",
       "    <tr style=\"text-align: right;\">\n",
       "      <th></th>\n",
       "      <th>Unnamed: 0</th>\n",
       "      <th>state</th>\n",
       "      <th>account_length</th>\n",
       "      <th>area_code</th>\n",
       "      <th>international_plan</th>\n",
       "      <th>voice_mail_plan</th>\n",
       "      <th>number_vmail_messages</th>\n",
       "      <th>total_day_minutes</th>\n",
       "      <th>total_day_calls</th>\n",
       "      <th>total_day_charge</th>\n",
       "      <th>...</th>\n",
       "      <th>total_eve_calls</th>\n",
       "      <th>total_eve_charge</th>\n",
       "      <th>total_night_minutes</th>\n",
       "      <th>total_night_calls</th>\n",
       "      <th>total_night_charge</th>\n",
       "      <th>total_intl_minutes</th>\n",
       "      <th>total_intl_calls</th>\n",
       "      <th>total_intl_charge</th>\n",
       "      <th>number_customer_service_calls</th>\n",
       "      <th>churn</th>\n",
       "    </tr>\n",
       "  </thead>\n",
       "  <tbody>\n",
       "    <tr>\n",
       "      <th>0</th>\n",
       "      <td>1</td>\n",
       "      <td>HI</td>\n",
       "      <td>101</td>\n",
       "      <td>area_code_510</td>\n",
       "      <td>no</td>\n",
       "      <td>no</td>\n",
       "      <td>0</td>\n",
       "      <td>70.9</td>\n",
       "      <td>123</td>\n",
       "      <td>12.05</td>\n",
       "      <td>...</td>\n",
       "      <td>73</td>\n",
       "      <td>18.01</td>\n",
       "      <td>236.0</td>\n",
       "      <td>73</td>\n",
       "      <td>10.62</td>\n",
       "      <td>10.6</td>\n",
       "      <td>3</td>\n",
       "      <td>2.86</td>\n",
       "      <td>3</td>\n",
       "      <td>no</td>\n",
       "    </tr>\n",
       "    <tr>\n",
       "      <th>1</th>\n",
       "      <td>2</td>\n",
       "      <td>MT</td>\n",
       "      <td>137</td>\n",
       "      <td>area_code_510</td>\n",
       "      <td>no</td>\n",
       "      <td>no</td>\n",
       "      <td>0</td>\n",
       "      <td>223.6</td>\n",
       "      <td>86</td>\n",
       "      <td>38.01</td>\n",
       "      <td>...</td>\n",
       "      <td>139</td>\n",
       "      <td>20.81</td>\n",
       "      <td>94.2</td>\n",
       "      <td>81</td>\n",
       "      <td>4.24</td>\n",
       "      <td>9.5</td>\n",
       "      <td>7</td>\n",
       "      <td>2.57</td>\n",
       "      <td>0</td>\n",
       "      <td>no</td>\n",
       "    </tr>\n",
       "    <tr>\n",
       "      <th>2</th>\n",
       "      <td>3</td>\n",
       "      <td>OH</td>\n",
       "      <td>103</td>\n",
       "      <td>area_code_408</td>\n",
       "      <td>no</td>\n",
       "      <td>yes</td>\n",
       "      <td>29</td>\n",
       "      <td>294.7</td>\n",
       "      <td>95</td>\n",
       "      <td>50.10</td>\n",
       "      <td>...</td>\n",
       "      <td>105</td>\n",
       "      <td>20.17</td>\n",
       "      <td>300.3</td>\n",
       "      <td>127</td>\n",
       "      <td>13.51</td>\n",
       "      <td>13.7</td>\n",
       "      <td>6</td>\n",
       "      <td>3.70</td>\n",
       "      <td>1</td>\n",
       "      <td>no</td>\n",
       "    </tr>\n",
       "    <tr>\n",
       "      <th>3</th>\n",
       "      <td>4</td>\n",
       "      <td>NM</td>\n",
       "      <td>99</td>\n",
       "      <td>area_code_415</td>\n",
       "      <td>no</td>\n",
       "      <td>no</td>\n",
       "      <td>0</td>\n",
       "      <td>216.8</td>\n",
       "      <td>123</td>\n",
       "      <td>36.86</td>\n",
       "      <td>...</td>\n",
       "      <td>88</td>\n",
       "      <td>10.74</td>\n",
       "      <td>220.6</td>\n",
       "      <td>82</td>\n",
       "      <td>9.93</td>\n",
       "      <td>15.7</td>\n",
       "      <td>2</td>\n",
       "      <td>4.24</td>\n",
       "      <td>1</td>\n",
       "      <td>no</td>\n",
       "    </tr>\n",
       "    <tr>\n",
       "      <th>4</th>\n",
       "      <td>5</td>\n",
       "      <td>SC</td>\n",
       "      <td>108</td>\n",
       "      <td>area_code_415</td>\n",
       "      <td>no</td>\n",
       "      <td>no</td>\n",
       "      <td>0</td>\n",
       "      <td>197.4</td>\n",
       "      <td>78</td>\n",
       "      <td>33.56</td>\n",
       "      <td>...</td>\n",
       "      <td>101</td>\n",
       "      <td>10.54</td>\n",
       "      <td>204.5</td>\n",
       "      <td>107</td>\n",
       "      <td>9.20</td>\n",
       "      <td>7.7</td>\n",
       "      <td>4</td>\n",
       "      <td>2.08</td>\n",
       "      <td>2</td>\n",
       "      <td>no</td>\n",
       "    </tr>\n",
       "  </tbody>\n",
       "</table>\n",
       "<p>5 rows × 21 columns</p>\n",
       "</div>"
      ],
      "text/plain": [
       "   Unnamed: 0 state  account_length      area_code international_plan  \\\n",
       "0           1    HI             101  area_code_510                 no   \n",
       "1           2    MT             137  area_code_510                 no   \n",
       "2           3    OH             103  area_code_408                 no   \n",
       "3           4    NM              99  area_code_415                 no   \n",
       "4           5    SC             108  area_code_415                 no   \n",
       "\n",
       "  voice_mail_plan  number_vmail_messages  total_day_minutes  total_day_calls  \\\n",
       "0              no                      0               70.9              123   \n",
       "1              no                      0              223.6               86   \n",
       "2             yes                     29              294.7               95   \n",
       "3              no                      0              216.8              123   \n",
       "4              no                      0              197.4               78   \n",
       "\n",
       "   total_day_charge  ...  total_eve_calls  total_eve_charge  \\\n",
       "0             12.05  ...               73             18.01   \n",
       "1             38.01  ...              139             20.81   \n",
       "2             50.10  ...              105             20.17   \n",
       "3             36.86  ...               88             10.74   \n",
       "4             33.56  ...              101             10.54   \n",
       "\n",
       "   total_night_minutes  total_night_calls  total_night_charge  \\\n",
       "0                236.0                 73               10.62   \n",
       "1                 94.2                 81                4.24   \n",
       "2                300.3                127               13.51   \n",
       "3                220.6                 82                9.93   \n",
       "4                204.5                107                9.20   \n",
       "\n",
       "   total_intl_minutes  total_intl_calls  total_intl_charge  \\\n",
       "0                10.6                 3               2.86   \n",
       "1                 9.5                 7               2.57   \n",
       "2                13.7                 6               3.70   \n",
       "3                15.7                 2               4.24   \n",
       "4                 7.7                 4               2.08   \n",
       "\n",
       "   number_customer_service_calls  churn  \n",
       "0                              3     no  \n",
       "1                              0     no  \n",
       "2                              1     no  \n",
       "3                              1     no  \n",
       "4                              2     no  \n",
       "\n",
       "[5 rows x 21 columns]"
      ]
     },
     "execution_count": 3,
     "metadata": {},
     "output_type": "execute_result"
    }
   ],
   "source": [
    "test = pd.read_csv('dataset/projeto4_telecom_teste.csv')\n",
    "test.head()"
   ]
  },
  {
   "cell_type": "markdown",
   "metadata": {},
   "source": [
    "# Analise Exploratoria dos Dados"
   ]
  },
  {
   "cell_type": "markdown",
   "metadata": {},
   "source": [
    "### Analise Inicial dos Dados"
   ]
  },
  {
   "cell_type": "code",
   "execution_count": 4,
   "metadata": {},
   "outputs": [
    {
     "data": {
      "text/plain": [
       "(3333, 21)"
      ]
     },
     "execution_count": 4,
     "metadata": {},
     "output_type": "execute_result"
    }
   ],
   "source": [
    "# Verificando o shape do dataset\n",
    "train.shape"
   ]
  },
  {
   "cell_type": "code",
   "execution_count": 5,
   "metadata": {},
   "outputs": [
    {
     "name": "stdout",
     "output_type": "stream",
     "text": [
      "Unnamed: 0\n",
      "state\n",
      "account_length\n",
      "area_code\n",
      "international_plan\n",
      "voice_mail_plan\n",
      "number_vmail_messages\n",
      "total_day_minutes\n",
      "total_day_calls\n",
      "total_day_charge\n",
      "total_eve_minutes\n",
      "total_eve_calls\n",
      "total_eve_charge\n",
      "total_night_minutes\n",
      "total_night_calls\n",
      "total_night_charge\n",
      "total_intl_minutes\n",
      "total_intl_calls\n",
      "total_intl_charge\n",
      "number_customer_service_calls\n",
      "churn\n"
     ]
    }
   ],
   "source": [
    "# Verificando o nome das Variaveis:\n",
    "for i in train.columns:\n",
    "    print(i)"
   ]
  },
  {
   "cell_type": "code",
   "execution_count": 6,
   "metadata": {},
   "outputs": [
    {
     "data": {
      "text/html": [
       "<div>\n",
       "<style scoped>\n",
       "    .dataframe tbody tr th:only-of-type {\n",
       "        vertical-align: middle;\n",
       "    }\n",
       "\n",
       "    .dataframe tbody tr th {\n",
       "        vertical-align: top;\n",
       "    }\n",
       "\n",
       "    .dataframe thead th {\n",
       "        text-align: right;\n",
       "    }\n",
       "</style>\n",
       "<table border=\"1\" class=\"dataframe\">\n",
       "  <thead>\n",
       "    <tr style=\"text-align: right;\">\n",
       "      <th></th>\n",
       "      <th>state</th>\n",
       "      <th>account_length</th>\n",
       "      <th>area_code</th>\n",
       "      <th>international_plan</th>\n",
       "      <th>voice_mail_plan</th>\n",
       "      <th>number_vmail_messages</th>\n",
       "      <th>total_day_minutes</th>\n",
       "      <th>total_day_calls</th>\n",
       "      <th>total_day_charge</th>\n",
       "      <th>total_eve_minutes</th>\n",
       "      <th>total_eve_calls</th>\n",
       "      <th>total_eve_charge</th>\n",
       "      <th>total_night_minutes</th>\n",
       "      <th>total_night_calls</th>\n",
       "      <th>total_night_charge</th>\n",
       "      <th>total_intl_minutes</th>\n",
       "      <th>total_intl_calls</th>\n",
       "      <th>total_intl_charge</th>\n",
       "      <th>number_customer_service_calls</th>\n",
       "      <th>churn</th>\n",
       "    </tr>\n",
       "  </thead>\n",
       "  <tbody>\n",
       "    <tr>\n",
       "      <th>0</th>\n",
       "      <td>KS</td>\n",
       "      <td>128</td>\n",
       "      <td>area_code_415</td>\n",
       "      <td>no</td>\n",
       "      <td>yes</td>\n",
       "      <td>25</td>\n",
       "      <td>265.1</td>\n",
       "      <td>110</td>\n",
       "      <td>45.07</td>\n",
       "      <td>197.4</td>\n",
       "      <td>99</td>\n",
       "      <td>16.78</td>\n",
       "      <td>244.7</td>\n",
       "      <td>91</td>\n",
       "      <td>11.01</td>\n",
       "      <td>10.0</td>\n",
       "      <td>3</td>\n",
       "      <td>2.70</td>\n",
       "      <td>1</td>\n",
       "      <td>no</td>\n",
       "    </tr>\n",
       "    <tr>\n",
       "      <th>1</th>\n",
       "      <td>OH</td>\n",
       "      <td>107</td>\n",
       "      <td>area_code_415</td>\n",
       "      <td>no</td>\n",
       "      <td>yes</td>\n",
       "      <td>26</td>\n",
       "      <td>161.6</td>\n",
       "      <td>123</td>\n",
       "      <td>27.47</td>\n",
       "      <td>195.5</td>\n",
       "      <td>103</td>\n",
       "      <td>16.62</td>\n",
       "      <td>254.4</td>\n",
       "      <td>103</td>\n",
       "      <td>11.45</td>\n",
       "      <td>13.7</td>\n",
       "      <td>3</td>\n",
       "      <td>3.70</td>\n",
       "      <td>1</td>\n",
       "      <td>no</td>\n",
       "    </tr>\n",
       "    <tr>\n",
       "      <th>2</th>\n",
       "      <td>NJ</td>\n",
       "      <td>137</td>\n",
       "      <td>area_code_415</td>\n",
       "      <td>no</td>\n",
       "      <td>no</td>\n",
       "      <td>0</td>\n",
       "      <td>243.4</td>\n",
       "      <td>114</td>\n",
       "      <td>41.38</td>\n",
       "      <td>121.2</td>\n",
       "      <td>110</td>\n",
       "      <td>10.30</td>\n",
       "      <td>162.6</td>\n",
       "      <td>104</td>\n",
       "      <td>7.32</td>\n",
       "      <td>12.2</td>\n",
       "      <td>5</td>\n",
       "      <td>3.29</td>\n",
       "      <td>0</td>\n",
       "      <td>no</td>\n",
       "    </tr>\n",
       "    <tr>\n",
       "      <th>3</th>\n",
       "      <td>OH</td>\n",
       "      <td>84</td>\n",
       "      <td>area_code_408</td>\n",
       "      <td>yes</td>\n",
       "      <td>no</td>\n",
       "      <td>0</td>\n",
       "      <td>299.4</td>\n",
       "      <td>71</td>\n",
       "      <td>50.90</td>\n",
       "      <td>61.9</td>\n",
       "      <td>88</td>\n",
       "      <td>5.26</td>\n",
       "      <td>196.9</td>\n",
       "      <td>89</td>\n",
       "      <td>8.86</td>\n",
       "      <td>6.6</td>\n",
       "      <td>7</td>\n",
       "      <td>1.78</td>\n",
       "      <td>2</td>\n",
       "      <td>no</td>\n",
       "    </tr>\n",
       "    <tr>\n",
       "      <th>4</th>\n",
       "      <td>OK</td>\n",
       "      <td>75</td>\n",
       "      <td>area_code_415</td>\n",
       "      <td>yes</td>\n",
       "      <td>no</td>\n",
       "      <td>0</td>\n",
       "      <td>166.7</td>\n",
       "      <td>113</td>\n",
       "      <td>28.34</td>\n",
       "      <td>148.3</td>\n",
       "      <td>122</td>\n",
       "      <td>12.61</td>\n",
       "      <td>186.9</td>\n",
       "      <td>121</td>\n",
       "      <td>8.41</td>\n",
       "      <td>10.1</td>\n",
       "      <td>3</td>\n",
       "      <td>2.73</td>\n",
       "      <td>3</td>\n",
       "      <td>no</td>\n",
       "    </tr>\n",
       "  </tbody>\n",
       "</table>\n",
       "</div>"
      ],
      "text/plain": [
       "  state  account_length      area_code international_plan voice_mail_plan  \\\n",
       "0    KS             128  area_code_415                 no             yes   \n",
       "1    OH             107  area_code_415                 no             yes   \n",
       "2    NJ             137  area_code_415                 no              no   \n",
       "3    OH              84  area_code_408                yes              no   \n",
       "4    OK              75  area_code_415                yes              no   \n",
       "\n",
       "   number_vmail_messages  total_day_minutes  total_day_calls  \\\n",
       "0                     25              265.1              110   \n",
       "1                     26              161.6              123   \n",
       "2                      0              243.4              114   \n",
       "3                      0              299.4               71   \n",
       "4                      0              166.7              113   \n",
       "\n",
       "   total_day_charge  total_eve_minutes  total_eve_calls  total_eve_charge  \\\n",
       "0             45.07              197.4               99             16.78   \n",
       "1             27.47              195.5              103             16.62   \n",
       "2             41.38              121.2              110             10.30   \n",
       "3             50.90               61.9               88              5.26   \n",
       "4             28.34              148.3              122             12.61   \n",
       "\n",
       "   total_night_minutes  total_night_calls  total_night_charge  \\\n",
       "0                244.7                 91               11.01   \n",
       "1                254.4                103               11.45   \n",
       "2                162.6                104                7.32   \n",
       "3                196.9                 89                8.86   \n",
       "4                186.9                121                8.41   \n",
       "\n",
       "   total_intl_minutes  total_intl_calls  total_intl_charge  \\\n",
       "0                10.0                 3               2.70   \n",
       "1                13.7                 3               3.70   \n",
       "2                12.2                 5               3.29   \n",
       "3                 6.6                 7               1.78   \n",
       "4                10.1                 3               2.73   \n",
       "\n",
       "   number_customer_service_calls churn  \n",
       "0                              1    no  \n",
       "1                              1    no  \n",
       "2                              0    no  \n",
       "3                              2    no  \n",
       "4                              3    no  "
      ]
     },
     "execution_count": 6,
     "metadata": {},
     "output_type": "execute_result"
    }
   ],
   "source": [
    "# Excluindo a coluna Unnamed: 0\n",
    "\n",
    "train = train.drop('Unnamed: 0', axis = 1)\n",
    "train.head()"
   ]
  },
  {
   "cell_type": "code",
   "execution_count": 7,
   "metadata": {},
   "outputs": [
    {
     "data": {
      "text/plain": [
       "state                            0\n",
       "account_length                   0\n",
       "area_code                        0\n",
       "international_plan               0\n",
       "voice_mail_plan                  0\n",
       "number_vmail_messages            0\n",
       "total_day_minutes                0\n",
       "total_day_calls                  0\n",
       "total_day_charge                 0\n",
       "total_eve_minutes                0\n",
       "total_eve_calls                  0\n",
       "total_eve_charge                 0\n",
       "total_night_minutes              0\n",
       "total_night_calls                0\n",
       "total_night_charge               0\n",
       "total_intl_minutes               0\n",
       "total_intl_calls                 0\n",
       "total_intl_charge                0\n",
       "number_customer_service_calls    0\n",
       "churn                            0\n",
       "dtype: int64"
      ]
     },
     "execution_count": 7,
     "metadata": {},
     "output_type": "execute_result"
    }
   ],
   "source": [
    "# Verificando se existe valores NA\n",
    "train.isna().sum()"
   ]
  },
  {
   "cell_type": "code",
   "execution_count": 8,
   "metadata": {},
   "outputs": [],
   "source": [
    "# Criando uma função para realizar criar um resumo estatistico dos Dados:\n",
    "def resumo_var(cols, df):\n",
    "    \n",
    "    for col in cols: \n",
    "        print('\\t COLUMN: ', col)\n",
    "        print('\\t type: ', df[col].dtype,'\\n')\n",
    "        print(df[col].describe(),'\\n')"
   ]
  },
  {
   "cell_type": "code",
   "execution_count": 9,
   "metadata": {},
   "outputs": [
    {
     "name": "stdout",
     "output_type": "stream",
     "text": [
      "\t COLUMN:  state\n",
      "\t type:  object \n",
      "\n",
      "count     3333\n",
      "unique      51\n",
      "top         WV\n",
      "freq       106\n",
      "Name: state, dtype: object \n",
      "\n",
      "\t COLUMN:  account_length\n",
      "\t type:  int64 \n",
      "\n",
      "count    3333.000000\n",
      "mean      101.064806\n",
      "std        39.822106\n",
      "min         1.000000\n",
      "25%        74.000000\n",
      "50%       101.000000\n",
      "75%       127.000000\n",
      "max       243.000000\n",
      "Name: account_length, dtype: float64 \n",
      "\n",
      "\t COLUMN:  area_code\n",
      "\t type:  object \n",
      "\n",
      "count              3333\n",
      "unique                3\n",
      "top       area_code_415\n",
      "freq               1655\n",
      "Name: area_code, dtype: object \n",
      "\n",
      "\t COLUMN:  international_plan\n",
      "\t type:  object \n",
      "\n",
      "count     3333\n",
      "unique       2\n",
      "top         no\n",
      "freq      3010\n",
      "Name: international_plan, dtype: object \n",
      "\n",
      "\t COLUMN:  voice_mail_plan\n",
      "\t type:  object \n",
      "\n",
      "count     3333\n",
      "unique       2\n",
      "top         no\n",
      "freq      2411\n",
      "Name: voice_mail_plan, dtype: object \n",
      "\n",
      "\t COLUMN:  number_vmail_messages\n",
      "\t type:  int64 \n",
      "\n",
      "count    3333.000000\n",
      "mean        8.099010\n",
      "std        13.688365\n",
      "min         0.000000\n",
      "25%         0.000000\n",
      "50%         0.000000\n",
      "75%        20.000000\n",
      "max        51.000000\n",
      "Name: number_vmail_messages, dtype: float64 \n",
      "\n",
      "\t COLUMN:  total_day_minutes\n",
      "\t type:  float64 \n",
      "\n",
      "count    3333.000000\n",
      "mean      179.775098\n",
      "std        54.467389\n",
      "min         0.000000\n",
      "25%       143.700000\n",
      "50%       179.400000\n",
      "75%       216.400000\n",
      "max       350.800000\n",
      "Name: total_day_minutes, dtype: float64 \n",
      "\n",
      "\t COLUMN:  total_day_calls\n",
      "\t type:  int64 \n",
      "\n",
      "count    3333.000000\n",
      "mean      100.435644\n",
      "std        20.069084\n",
      "min         0.000000\n",
      "25%        87.000000\n",
      "50%       101.000000\n",
      "75%       114.000000\n",
      "max       165.000000\n",
      "Name: total_day_calls, dtype: float64 \n",
      "\n",
      "\t COLUMN:  total_day_charge\n",
      "\t type:  float64 \n",
      "\n",
      "count    3333.000000\n",
      "mean       30.562307\n",
      "std         9.259435\n",
      "min         0.000000\n",
      "25%        24.430000\n",
      "50%        30.500000\n",
      "75%        36.790000\n",
      "max        59.640000\n",
      "Name: total_day_charge, dtype: float64 \n",
      "\n",
      "\t COLUMN:  total_eve_minutes\n",
      "\t type:  float64 \n",
      "\n",
      "count    3333.000000\n",
      "mean      200.980348\n",
      "std        50.713844\n",
      "min         0.000000\n",
      "25%       166.600000\n",
      "50%       201.400000\n",
      "75%       235.300000\n",
      "max       363.700000\n",
      "Name: total_eve_minutes, dtype: float64 \n",
      "\n",
      "\t COLUMN:  total_eve_calls\n",
      "\t type:  int64 \n",
      "\n",
      "count    3333.000000\n",
      "mean      100.114311\n",
      "std        19.922625\n",
      "min         0.000000\n",
      "25%        87.000000\n",
      "50%       100.000000\n",
      "75%       114.000000\n",
      "max       170.000000\n",
      "Name: total_eve_calls, dtype: float64 \n",
      "\n",
      "\t COLUMN:  total_eve_charge\n",
      "\t type:  float64 \n",
      "\n",
      "count    3333.000000\n",
      "mean       17.083540\n",
      "std         4.310668\n",
      "min         0.000000\n",
      "25%        14.160000\n",
      "50%        17.120000\n",
      "75%        20.000000\n",
      "max        30.910000\n",
      "Name: total_eve_charge, dtype: float64 \n",
      "\n",
      "\t COLUMN:  total_night_minutes\n",
      "\t type:  float64 \n",
      "\n",
      "count    3333.000000\n",
      "mean      200.872037\n",
      "std        50.573847\n",
      "min        23.200000\n",
      "25%       167.000000\n",
      "50%       201.200000\n",
      "75%       235.300000\n",
      "max       395.000000\n",
      "Name: total_night_minutes, dtype: float64 \n",
      "\n",
      "\t COLUMN:  total_night_calls\n",
      "\t type:  int64 \n",
      "\n",
      "count    3333.000000\n",
      "mean      100.107711\n",
      "std        19.568609\n",
      "min        33.000000\n",
      "25%        87.000000\n",
      "50%       100.000000\n",
      "75%       113.000000\n",
      "max       175.000000\n",
      "Name: total_night_calls, dtype: float64 \n",
      "\n",
      "\t COLUMN:  total_night_charge\n",
      "\t type:  float64 \n",
      "\n",
      "count    3333.000000\n",
      "mean        9.039325\n",
      "std         2.275873\n",
      "min         1.040000\n",
      "25%         7.520000\n",
      "50%         9.050000\n",
      "75%        10.590000\n",
      "max        17.770000\n",
      "Name: total_night_charge, dtype: float64 \n",
      "\n",
      "\t COLUMN:  total_intl_minutes\n",
      "\t type:  float64 \n",
      "\n",
      "count    3333.000000\n",
      "mean       10.237294\n",
      "std         2.791840\n",
      "min         0.000000\n",
      "25%         8.500000\n",
      "50%        10.300000\n",
      "75%        12.100000\n",
      "max        20.000000\n",
      "Name: total_intl_minutes, dtype: float64 \n",
      "\n",
      "\t COLUMN:  total_intl_calls\n",
      "\t type:  int64 \n",
      "\n",
      "count    3333.000000\n",
      "mean        4.479448\n",
      "std         2.461214\n",
      "min         0.000000\n",
      "25%         3.000000\n",
      "50%         4.000000\n",
      "75%         6.000000\n",
      "max        20.000000\n",
      "Name: total_intl_calls, dtype: float64 \n",
      "\n",
      "\t COLUMN:  total_intl_charge\n",
      "\t type:  float64 \n",
      "\n",
      "count    3333.000000\n",
      "mean        2.764581\n",
      "std         0.753773\n",
      "min         0.000000\n",
      "25%         2.300000\n",
      "50%         2.780000\n",
      "75%         3.270000\n",
      "max         5.400000\n",
      "Name: total_intl_charge, dtype: float64 \n",
      "\n",
      "\t COLUMN:  number_customer_service_calls\n",
      "\t type:  int64 \n",
      "\n",
      "count    3333.000000\n",
      "mean        1.562856\n",
      "std         1.315491\n",
      "min         0.000000\n",
      "25%         1.000000\n",
      "50%         1.000000\n",
      "75%         2.000000\n",
      "max         9.000000\n",
      "Name: number_customer_service_calls, dtype: float64 \n",
      "\n",
      "\t COLUMN:  churn\n",
      "\t type:  object \n",
      "\n",
      "count     3333\n",
      "unique       2\n",
      "top         no\n",
      "freq      2850\n",
      "Name: churn, dtype: object \n",
      "\n"
     ]
    }
   ],
   "source": [
    "# Realizando o resumo estatistico das Variaveis\n",
    "resumo_var(train.columns, train)"
   ]
  },
  {
   "cell_type": "markdown",
   "metadata": {},
   "source": [
    "### Analise avançada dos Dados"
   ]
  },
  {
   "cell_type": "markdown",
   "metadata": {},
   "source": [
    "Nessa parte tenho como premissa entender melhor como os dados estão distribuidos, como os dados se comportam, as melhores variaveis, etc..."
   ]
  },
  {
   "cell_type": "code",
   "execution_count": 10,
   "metadata": {},
   "outputs": [
    {
     "data": {
      "text/html": [
       "<div>\n",
       "<style scoped>\n",
       "    .dataframe tbody tr th:only-of-type {\n",
       "        vertical-align: middle;\n",
       "    }\n",
       "\n",
       "    .dataframe tbody tr th {\n",
       "        vertical-align: top;\n",
       "    }\n",
       "\n",
       "    .dataframe thead th {\n",
       "        text-align: right;\n",
       "    }\n",
       "</style>\n",
       "<table border=\"1\" class=\"dataframe\">\n",
       "  <thead>\n",
       "    <tr style=\"text-align: right;\">\n",
       "      <th></th>\n",
       "      <th>state</th>\n",
       "      <th>account_length</th>\n",
       "      <th>area_code</th>\n",
       "      <th>international_plan</th>\n",
       "      <th>voice_mail_plan</th>\n",
       "      <th>number_vmail_messages</th>\n",
       "      <th>total_day_minutes</th>\n",
       "      <th>total_day_calls</th>\n",
       "      <th>total_day_charge</th>\n",
       "      <th>total_eve_minutes</th>\n",
       "      <th>total_eve_calls</th>\n",
       "      <th>total_eve_charge</th>\n",
       "      <th>total_night_minutes</th>\n",
       "      <th>total_night_calls</th>\n",
       "      <th>total_night_charge</th>\n",
       "      <th>total_intl_minutes</th>\n",
       "      <th>total_intl_calls</th>\n",
       "      <th>total_intl_charge</th>\n",
       "      <th>number_customer_service_calls</th>\n",
       "      <th>churn</th>\n",
       "    </tr>\n",
       "  </thead>\n",
       "  <tbody>\n",
       "    <tr>\n",
       "      <th>0</th>\n",
       "      <td>KS</td>\n",
       "      <td>128</td>\n",
       "      <td>area_code_415</td>\n",
       "      <td>no</td>\n",
       "      <td>yes</td>\n",
       "      <td>25</td>\n",
       "      <td>265.1</td>\n",
       "      <td>110</td>\n",
       "      <td>45.07</td>\n",
       "      <td>197.4</td>\n",
       "      <td>99</td>\n",
       "      <td>16.78</td>\n",
       "      <td>244.7</td>\n",
       "      <td>91</td>\n",
       "      <td>11.01</td>\n",
       "      <td>10.0</td>\n",
       "      <td>3</td>\n",
       "      <td>2.70</td>\n",
       "      <td>1</td>\n",
       "      <td>no</td>\n",
       "    </tr>\n",
       "    <tr>\n",
       "      <th>1</th>\n",
       "      <td>OH</td>\n",
       "      <td>107</td>\n",
       "      <td>area_code_415</td>\n",
       "      <td>no</td>\n",
       "      <td>yes</td>\n",
       "      <td>26</td>\n",
       "      <td>161.6</td>\n",
       "      <td>123</td>\n",
       "      <td>27.47</td>\n",
       "      <td>195.5</td>\n",
       "      <td>103</td>\n",
       "      <td>16.62</td>\n",
       "      <td>254.4</td>\n",
       "      <td>103</td>\n",
       "      <td>11.45</td>\n",
       "      <td>13.7</td>\n",
       "      <td>3</td>\n",
       "      <td>3.70</td>\n",
       "      <td>1</td>\n",
       "      <td>no</td>\n",
       "    </tr>\n",
       "    <tr>\n",
       "      <th>2</th>\n",
       "      <td>NJ</td>\n",
       "      <td>137</td>\n",
       "      <td>area_code_415</td>\n",
       "      <td>no</td>\n",
       "      <td>no</td>\n",
       "      <td>0</td>\n",
       "      <td>243.4</td>\n",
       "      <td>114</td>\n",
       "      <td>41.38</td>\n",
       "      <td>121.2</td>\n",
       "      <td>110</td>\n",
       "      <td>10.30</td>\n",
       "      <td>162.6</td>\n",
       "      <td>104</td>\n",
       "      <td>7.32</td>\n",
       "      <td>12.2</td>\n",
       "      <td>5</td>\n",
       "      <td>3.29</td>\n",
       "      <td>0</td>\n",
       "      <td>no</td>\n",
       "    </tr>\n",
       "    <tr>\n",
       "      <th>3</th>\n",
       "      <td>OH</td>\n",
       "      <td>84</td>\n",
       "      <td>area_code_408</td>\n",
       "      <td>yes</td>\n",
       "      <td>no</td>\n",
       "      <td>0</td>\n",
       "      <td>299.4</td>\n",
       "      <td>71</td>\n",
       "      <td>50.90</td>\n",
       "      <td>61.9</td>\n",
       "      <td>88</td>\n",
       "      <td>5.26</td>\n",
       "      <td>196.9</td>\n",
       "      <td>89</td>\n",
       "      <td>8.86</td>\n",
       "      <td>6.6</td>\n",
       "      <td>7</td>\n",
       "      <td>1.78</td>\n",
       "      <td>2</td>\n",
       "      <td>no</td>\n",
       "    </tr>\n",
       "    <tr>\n",
       "      <th>4</th>\n",
       "      <td>OK</td>\n",
       "      <td>75</td>\n",
       "      <td>area_code_415</td>\n",
       "      <td>yes</td>\n",
       "      <td>no</td>\n",
       "      <td>0</td>\n",
       "      <td>166.7</td>\n",
       "      <td>113</td>\n",
       "      <td>28.34</td>\n",
       "      <td>148.3</td>\n",
       "      <td>122</td>\n",
       "      <td>12.61</td>\n",
       "      <td>186.9</td>\n",
       "      <td>121</td>\n",
       "      <td>8.41</td>\n",
       "      <td>10.1</td>\n",
       "      <td>3</td>\n",
       "      <td>2.73</td>\n",
       "      <td>3</td>\n",
       "      <td>no</td>\n",
       "    </tr>\n",
       "  </tbody>\n",
       "</table>\n",
       "</div>"
      ],
      "text/plain": [
       "  state  account_length      area_code international_plan voice_mail_plan  \\\n",
       "0    KS             128  area_code_415                 no             yes   \n",
       "1    OH             107  area_code_415                 no             yes   \n",
       "2    NJ             137  area_code_415                 no              no   \n",
       "3    OH              84  area_code_408                yes              no   \n",
       "4    OK              75  area_code_415                yes              no   \n",
       "\n",
       "   number_vmail_messages  total_day_minutes  total_day_calls  \\\n",
       "0                     25              265.1              110   \n",
       "1                     26              161.6              123   \n",
       "2                      0              243.4              114   \n",
       "3                      0              299.4               71   \n",
       "4                      0              166.7              113   \n",
       "\n",
       "   total_day_charge  total_eve_minutes  total_eve_calls  total_eve_charge  \\\n",
       "0             45.07              197.4               99             16.78   \n",
       "1             27.47              195.5              103             16.62   \n",
       "2             41.38              121.2              110             10.30   \n",
       "3             50.90               61.9               88              5.26   \n",
       "4             28.34              148.3              122             12.61   \n",
       "\n",
       "   total_night_minutes  total_night_calls  total_night_charge  \\\n",
       "0                244.7                 91               11.01   \n",
       "1                254.4                103               11.45   \n",
       "2                162.6                104                7.32   \n",
       "3                196.9                 89                8.86   \n",
       "4                186.9                121                8.41   \n",
       "\n",
       "   total_intl_minutes  total_intl_calls  total_intl_charge  \\\n",
       "0                10.0                 3               2.70   \n",
       "1                13.7                 3               3.70   \n",
       "2                12.2                 5               3.29   \n",
       "3                 6.6                 7               1.78   \n",
       "4                10.1                 3               2.73   \n",
       "\n",
       "   number_customer_service_calls churn  \n",
       "0                              1    no  \n",
       "1                              1    no  \n",
       "2                              0    no  \n",
       "3                              2    no  \n",
       "4                              3    no  "
      ]
     },
     "execution_count": 10,
     "metadata": {},
     "output_type": "execute_result"
    }
   ],
   "source": [
    "train.head()"
   ]
  },
  {
   "cell_type": "code",
   "execution_count": 11,
   "metadata": {},
   "outputs": [],
   "source": [
    "# Criando um Dataset com os clientes insatisfeitos\n",
    "apoio = train['churn'] == 'yes'\n",
    "df = train[apoio]\n",
    "\n",
    "# Criando um Dataset com os Clientes Satisfeitos\n",
    "apoio = train['churn'] == 'no'\n",
    "dt = train[apoio]"
   ]
  },
  {
   "cell_type": "code",
   "execution_count": 12,
   "metadata": {},
   "outputs": [
    {
     "data": {
      "image/png": "[encoded data removed]",
      "text/plain": [
       "<Figure size 576x432 with 1 Axes>"
      ]
     },
     "metadata": {
      "needs_background": "light"
     },
     "output_type": "display_data"
    }
   ],
   "source": [
    "# Comparando os clientes satisfeitos/Insatisfeitos\n",
    "\n",
    "# Criando o gráfico\n",
    "plt.figure(figsize = [8, 6])\n",
    "sns.countplot(x = 'churn', data = train)\n",
    "plt.title('Clientes Insatisfeitos/Satisfeitos')\n",
    "plt.xlabel('Churn')\n",
    "plt.ylabel('N° de Clientes')\n",
    "plt.show()"
   ]
  },
  {
   "cell_type": "code",
   "execution_count": 13,
   "metadata": {},
   "outputs": [
    {
     "data": {
      "image/png": "[encoded data removed]",
      "text/plain": [
       "<Figure size 576x432 with 1 Axes>"
      ]
     },
     "metadata": {},
     "output_type": "display_data"
    }
   ],
   "source": [
    "# Criando um gráfico para entender em qual estado os clientes ficam mais insatisfeitos\n",
    "estados = dict(df['state'].value_counts()[0:10]).keys()\n",
    "valores = dict(df['state'].value_counts()[0:10]).values()\n",
    "\n",
    "# Criando o gráfico\n",
    "plt.style.use(\"Solarize_Light2\")\n",
    "plt.figure(figsize = [8, 6])\n",
    "plt.bar(estados, valores)\n",
    "plt.title('Top 10 Estados com Mais Clientes Insatisfeitos')\n",
    "plt.xlabel('Estados')\n",
    "plt.ylabel('N° de Clientes Insatisfeitos')\n",
    "plt.show()"
   ]
  },
  {
   "cell_type": "markdown",
   "metadata": {},
   "source": [
    "Como podemos ver no gráfico, podemos ver que nos Estados Nova Jersey, Texas e Maryland são os estados onde os clientes mais ficam insatisfeitos."
   ]
  },
  {
   "cell_type": "code",
   "execution_count": 14,
   "metadata": {},
   "outputs": [
    {
     "data": {
      "image/png": "[encoded data removed]",
      "text/plain": [
       "<Figure size 576x432 with 1 Axes>"
      ]
     },
     "metadata": {},
     "output_type": "display_data"
    }
   ],
   "source": [
    "# Criando um gráfico para entender em qual estado os clientes ficam mais insatisfeitos\n",
    "international = dict(df['international_plan'].value_counts()).keys()\n",
    "valores = dict(df['international_plan'].value_counts()).values()\n",
    "\n",
    "# Criando o gráfico\n",
    "plt.style.use(\"Solarize_Light2\")\n",
    "plt.figure(figsize = [8, 6])\n",
    "plt.bar(international, valores)\n",
    "plt.title('Verificando a Proporção de Clientes Insatifeitos no Plano Internacional')\n",
    "plt.xlabel('Plano Internacional')\n",
    "plt.ylabel('N° de Clientes Insatisfeitos')\n",
    "plt.show()"
   ]
  },
  {
   "cell_type": "markdown",
   "metadata": {},
   "source": [
    "Outro Insight que podemos obter é que os Clientes que possuem o plano Internacional, possui menos chance de cancelar o plano com a empresa"
   ]
  },
  {
   "cell_type": "code",
   "execution_count": 15,
   "metadata": {},
   "outputs": [
    {
     "data": {
      "image/png": "[encoded data removed]",
      "text/plain": [
       "<Figure size 576x432 with 1 Axes>"
      ]
     },
     "metadata": {},
     "output_type": "display_data"
    }
   ],
   "source": [
    "# Criando um gráfico para entender em qual estado os clientes ficam mais insatisfeitos\n",
    "international = dict(df['voice_mail_plan'].value_counts()).keys()\n",
    "valores = dict(df['voice_mail_plan'].value_counts()).values()\n",
    "\n",
    "# Criando o gráfico\n",
    "plt.style.use(\"Solarize_Light2\")\n",
    "plt.figure(figsize = [8, 6])\n",
    "plt.bar(international, valores)\n",
    "plt.title('Verificando a Proporção de Clientes Insatifeitos com Plano de Correiro de Voz')\n",
    "plt.xlabel('Plano Internacional')\n",
    "plt.ylabel('N° de Clientes Insatisfeitos')\n",
    "plt.show()"
   ]
  },
  {
   "cell_type": "code",
   "execution_count": 16,
   "metadata": {},
   "outputs": [
    {
     "data": {
      "image/png": "[encoded data removed]",
      "text/plain": [
       "<Figure size 576x432 with 1 Axes>"
      ]
     },
     "metadata": {},
     "output_type": "display_data"
    }
   ],
   "source": [
    "valores = [df['total_day_calls'].mean(), dt['total_day_calls'].mean()]\n",
    "grupos = ['Insatisfeitos', 'Satisfeitos']\n",
    "\n",
    "\n",
    "# Criando o gráfico\n",
    "plt.style.use(\"Solarize_Light2\")\n",
    "plt.figure(figsize = [8, 6])\n",
    "plt.bar(grupos, valores)\n",
    "plt.title('Media de Ligações Por dia')\n",
    "plt.xlabel('Cliente')\n",
    "plt.ylabel('N° de Ligações')\n",
    "plt.show()"
   ]
  },
  {
   "cell_type": "markdown",
   "metadata": {},
   "source": [
    "Como podemos ver, não existe diferença no Numero de Ligações realizadas por Dia para que um cliente esteja insatisfeito"
   ]
  },
  {
   "cell_type": "code",
   "execution_count": 17,
   "metadata": {},
   "outputs": [
    {
     "data": {
      "image/png": "[encoded data removed]",
      "text/plain": [
       "<Figure size 576x432 with 1 Axes>"
      ]
     },
     "metadata": {},
     "output_type": "display_data"
    }
   ],
   "source": [
    "valores = [df['number_customer_service_calls'].mean(), dt['number_customer_service_calls'].mean()]\n",
    "grupos = ['Insatisfeitos', 'Satisfeitos']\n",
    "\n",
    "\n",
    "# Criando o gráfico\n",
    "plt.style.use(\"Solarize_Light2\")\n",
    "plt.figure(figsize = [8, 6])\n",
    "plt.bar(grupos, valores)\n",
    "plt.title('Média de Ligações ao Atendimento ao Cliente')\n",
    "plt.xlabel('Cliente')\n",
    "plt.ylabel('N° de Ligações')\n",
    "plt.show()"
   ]
  },
  {
   "cell_type": "markdown",
   "metadata": {},
   "source": [
    "É possivel notar que os Clientes que não estão satisfeitos com o seu plano, tendem a ligar ao Customer Service da empresa mais vezes"
   ]
  },
  {
   "cell_type": "code",
   "execution_count": 18,
   "metadata": {},
   "outputs": [
    {
     "data": {
      "image/png": "[encoded data removed]",
      "text/plain": [
       "<Figure size 576x432 with 1 Axes>"
      ]
     },
     "metadata": {},
     "output_type": "display_data"
    }
   ],
   "source": [
    "# define o nível de separabilidade entre as partes, ordem do vetor representa as partes\n",
    "explode = (0, 0.05) \n",
    "\n",
    "# define o formato de visualização com saída em 1.1%%, sombras e a separação entre as partes\n",
    "plt.style.use(\"Solarize_Light2\")\n",
    "plt.figure(figsize = [8, 6])\n",
    "\n",
    "plt.pie(valores, labels=grupos, autopct='%1.2f%%', shadow=True, explode=explode)\n",
    "plt.title('% de Ligações ao Customer Service')\n",
    "plt.xlabel('Cliente')\n",
    "plt.ylabel('N° de Ligações')\n",
    "plt.show()"
   ]
  },
  {
   "cell_type": "markdown",
   "metadata": {},
   "source": [
    "Outro insight possivel de coletar, é que ~60% dos clientes que ligam para o Customer Service estão Insatisfeitos"
   ]
  },
  {
   "cell_type": "code",
   "execution_count": 19,
   "metadata": {},
   "outputs": [
    {
     "data": {
      "image/png": "[encoded data removed]",
      "text/plain": [
       "<Figure size 576x432 with 1 Axes>"
      ]
     },
     "metadata": {},
     "output_type": "display_data"
    }
   ],
   "source": [
    "# Criando um gráfico para entender em qual estado os clientes ficam mais insatisfeitos\n",
    "apoio = train.groupby('state')['number_customer_service_calls'].sum().sort_values(ascending=False)[:10].reset_index()\n",
    "\n",
    "# Criando o gráfico\n",
    "plt.figure(figsize = [8, 6])\n",
    "sns.barplot(x = 'state', y = 'number_customer_service_calls', data = apoio)\n",
    "plt.title('10 Estados com Maiores Ligações ao Customer Service')\n",
    "plt.xlabel('Estados')\n",
    "plt.ylabel('N° ligações')\n",
    "plt.show()"
   ]
  },
  {
   "cell_type": "markdown",
   "metadata": {},
   "source": [
    "# Pré Processamento dos Dados"
   ]
  },
  {
   "cell_type": "markdown",
   "metadata": {},
   "source": [
    "Após uma profunda analise dos dados e obtenção de insights valiosos, irei realizar o pré processamento dos dados.\n",
    "Nessa etapa vou realizar algumas transformações no meu dataset, como por exemplo padronização e normalização dos dados"
   ]
  },
  {
   "cell_type": "code",
   "execution_count": 20,
   "metadata": {},
   "outputs": [],
   "source": [
    "# Para facilitar a previsão dos dados, irei transformar as variaveis yes/no por 1/0\n",
    "train['churn'] = train['churn'].replace(['no', 'yes'], [0,1])\n",
    "\n",
    "# Irei aplicar a memsa logíca para todos as variaveis que são yes/no\n",
    "train['international_plan'] = train['international_plan'].replace(['no', 'yes'], [0,1])\n",
    "train['voice_mail_plan'] = train['voice_mail_plan'].replace(['no', 'yes'], [0,1])"
   ]
  },
  {
   "cell_type": "code",
   "execution_count": 21,
   "metadata": {},
   "outputs": [],
   "source": [
    "# Separando a variável target, das features do conjunto de dados.\n",
    "VarTreino, targetTreino = train.drop('churn', axis = 1), np.array(train.churn).ravel()"
   ]
  },
  {
   "cell_type": "code",
   "execution_count": 22,
   "metadata": {},
   "outputs": [
    {
     "data": {
      "text/html": [
       "<div>\n",
       "<style scoped>\n",
       "    .dataframe tbody tr th:only-of-type {\n",
       "        vertical-align: middle;\n",
       "    }\n",
       "\n",
       "    .dataframe tbody tr th {\n",
       "        vertical-align: top;\n",
       "    }\n",
       "\n",
       "    .dataframe thead th {\n",
       "        text-align: right;\n",
       "    }\n",
       "</style>\n",
       "<table border=\"1\" class=\"dataframe\">\n",
       "  <thead>\n",
       "    <tr style=\"text-align: right;\">\n",
       "      <th></th>\n",
       "      <th>account_length</th>\n",
       "      <th>international_plan</th>\n",
       "      <th>voice_mail_plan</th>\n",
       "      <th>number_vmail_messages</th>\n",
       "      <th>total_day_minutes</th>\n",
       "      <th>total_day_calls</th>\n",
       "      <th>total_day_charge</th>\n",
       "      <th>total_eve_minutes</th>\n",
       "      <th>total_eve_calls</th>\n",
       "      <th>total_eve_charge</th>\n",
       "      <th>total_night_minutes</th>\n",
       "      <th>total_night_calls</th>\n",
       "      <th>total_night_charge</th>\n",
       "      <th>total_intl_minutes</th>\n",
       "      <th>total_intl_calls</th>\n",
       "      <th>total_intl_charge</th>\n",
       "      <th>number_customer_service_calls</th>\n",
       "    </tr>\n",
       "  </thead>\n",
       "  <tbody>\n",
       "    <tr>\n",
       "      <th>0</th>\n",
       "      <td>128</td>\n",
       "      <td>0</td>\n",
       "      <td>1</td>\n",
       "      <td>25</td>\n",
       "      <td>265.1</td>\n",
       "      <td>110</td>\n",
       "      <td>45.07</td>\n",
       "      <td>197.4</td>\n",
       "      <td>99</td>\n",
       "      <td>16.78</td>\n",
       "      <td>244.7</td>\n",
       "      <td>91</td>\n",
       "      <td>11.01</td>\n",
       "      <td>10.0</td>\n",
       "      <td>3</td>\n",
       "      <td>2.70</td>\n",
       "      <td>1</td>\n",
       "    </tr>\n",
       "    <tr>\n",
       "      <th>1</th>\n",
       "      <td>107</td>\n",
       "      <td>0</td>\n",
       "      <td>1</td>\n",
       "      <td>26</td>\n",
       "      <td>161.6</td>\n",
       "      <td>123</td>\n",
       "      <td>27.47</td>\n",
       "      <td>195.5</td>\n",
       "      <td>103</td>\n",
       "      <td>16.62</td>\n",
       "      <td>254.4</td>\n",
       "      <td>103</td>\n",
       "      <td>11.45</td>\n",
       "      <td>13.7</td>\n",
       "      <td>3</td>\n",
       "      <td>3.70</td>\n",
       "      <td>1</td>\n",
       "    </tr>\n",
       "    <tr>\n",
       "      <th>2</th>\n",
       "      <td>137</td>\n",
       "      <td>0</td>\n",
       "      <td>0</td>\n",
       "      <td>0</td>\n",
       "      <td>243.4</td>\n",
       "      <td>114</td>\n",
       "      <td>41.38</td>\n",
       "      <td>121.2</td>\n",
       "      <td>110</td>\n",
       "      <td>10.30</td>\n",
       "      <td>162.6</td>\n",
       "      <td>104</td>\n",
       "      <td>7.32</td>\n",
       "      <td>12.2</td>\n",
       "      <td>5</td>\n",
       "      <td>3.29</td>\n",
       "      <td>0</td>\n",
       "    </tr>\n",
       "    <tr>\n",
       "      <th>3</th>\n",
       "      <td>84</td>\n",
       "      <td>1</td>\n",
       "      <td>0</td>\n",
       "      <td>0</td>\n",
       "      <td>299.4</td>\n",
       "      <td>71</td>\n",
       "      <td>50.90</td>\n",
       "      <td>61.9</td>\n",
       "      <td>88</td>\n",
       "      <td>5.26</td>\n",
       "      <td>196.9</td>\n",
       "      <td>89</td>\n",
       "      <td>8.86</td>\n",
       "      <td>6.6</td>\n",
       "      <td>7</td>\n",
       "      <td>1.78</td>\n",
       "      <td>2</td>\n",
       "    </tr>\n",
       "    <tr>\n",
       "      <th>4</th>\n",
       "      <td>75</td>\n",
       "      <td>1</td>\n",
       "      <td>0</td>\n",
       "      <td>0</td>\n",
       "      <td>166.7</td>\n",
       "      <td>113</td>\n",
       "      <td>28.34</td>\n",
       "      <td>148.3</td>\n",
       "      <td>122</td>\n",
       "      <td>12.61</td>\n",
       "      <td>186.9</td>\n",
       "      <td>121</td>\n",
       "      <td>8.41</td>\n",
       "      <td>10.1</td>\n",
       "      <td>3</td>\n",
       "      <td>2.73</td>\n",
       "      <td>3</td>\n",
       "    </tr>\n",
       "    <tr>\n",
       "      <th>...</th>\n",
       "      <td>...</td>\n",
       "      <td>...</td>\n",
       "      <td>...</td>\n",
       "      <td>...</td>\n",
       "      <td>...</td>\n",
       "      <td>...</td>\n",
       "      <td>...</td>\n",
       "      <td>...</td>\n",
       "      <td>...</td>\n",
       "      <td>...</td>\n",
       "      <td>...</td>\n",
       "      <td>...</td>\n",
       "      <td>...</td>\n",
       "      <td>...</td>\n",
       "      <td>...</td>\n",
       "      <td>...</td>\n",
       "      <td>...</td>\n",
       "    </tr>\n",
       "    <tr>\n",
       "      <th>3328</th>\n",
       "      <td>192</td>\n",
       "      <td>0</td>\n",
       "      <td>1</td>\n",
       "      <td>36</td>\n",
       "      <td>156.2</td>\n",
       "      <td>77</td>\n",
       "      <td>26.55</td>\n",
       "      <td>215.5</td>\n",
       "      <td>126</td>\n",
       "      <td>18.32</td>\n",
       "      <td>279.1</td>\n",
       "      <td>83</td>\n",
       "      <td>12.56</td>\n",
       "      <td>9.9</td>\n",
       "      <td>6</td>\n",
       "      <td>2.67</td>\n",
       "      <td>2</td>\n",
       "    </tr>\n",
       "    <tr>\n",
       "      <th>3329</th>\n",
       "      <td>68</td>\n",
       "      <td>0</td>\n",
       "      <td>0</td>\n",
       "      <td>0</td>\n",
       "      <td>231.1</td>\n",
       "      <td>57</td>\n",
       "      <td>39.29</td>\n",
       "      <td>153.4</td>\n",
       "      <td>55</td>\n",
       "      <td>13.04</td>\n",
       "      <td>191.3</td>\n",
       "      <td>123</td>\n",
       "      <td>8.61</td>\n",
       "      <td>9.6</td>\n",
       "      <td>4</td>\n",
       "      <td>2.59</td>\n",
       "      <td>3</td>\n",
       "    </tr>\n",
       "    <tr>\n",
       "      <th>3330</th>\n",
       "      <td>28</td>\n",
       "      <td>0</td>\n",
       "      <td>0</td>\n",
       "      <td>0</td>\n",
       "      <td>180.8</td>\n",
       "      <td>109</td>\n",
       "      <td>30.74</td>\n",
       "      <td>288.8</td>\n",
       "      <td>58</td>\n",
       "      <td>24.55</td>\n",
       "      <td>191.9</td>\n",
       "      <td>91</td>\n",
       "      <td>8.64</td>\n",
       "      <td>14.1</td>\n",
       "      <td>6</td>\n",
       "      <td>3.81</td>\n",
       "      <td>2</td>\n",
       "    </tr>\n",
       "    <tr>\n",
       "      <th>3331</th>\n",
       "      <td>184</td>\n",
       "      <td>1</td>\n",
       "      <td>0</td>\n",
       "      <td>0</td>\n",
       "      <td>213.8</td>\n",
       "      <td>105</td>\n",
       "      <td>36.35</td>\n",
       "      <td>159.6</td>\n",
       "      <td>84</td>\n",
       "      <td>13.57</td>\n",
       "      <td>139.2</td>\n",
       "      <td>137</td>\n",
       "      <td>6.26</td>\n",
       "      <td>5.0</td>\n",
       "      <td>10</td>\n",
       "      <td>1.35</td>\n",
       "      <td>2</td>\n",
       "    </tr>\n",
       "    <tr>\n",
       "      <th>3332</th>\n",
       "      <td>74</td>\n",
       "      <td>0</td>\n",
       "      <td>1</td>\n",
       "      <td>25</td>\n",
       "      <td>234.4</td>\n",
       "      <td>113</td>\n",
       "      <td>39.85</td>\n",
       "      <td>265.9</td>\n",
       "      <td>82</td>\n",
       "      <td>22.60</td>\n",
       "      <td>241.4</td>\n",
       "      <td>77</td>\n",
       "      <td>10.86</td>\n",
       "      <td>13.7</td>\n",
       "      <td>4</td>\n",
       "      <td>3.70</td>\n",
       "      <td>0</td>\n",
       "    </tr>\n",
       "  </tbody>\n",
       "</table>\n",
       "<p>3333 rows × 17 columns</p>\n",
       "</div>"
      ],
      "text/plain": [
       "      account_length  international_plan  voice_mail_plan  \\\n",
       "0                128                   0                1   \n",
       "1                107                   0                1   \n",
       "2                137                   0                0   \n",
       "3                 84                   1                0   \n",
       "4                 75                   1                0   \n",
       "...              ...                 ...              ...   \n",
       "3328             192                   0                1   \n",
       "3329              68                   0                0   \n",
       "3330              28                   0                0   \n",
       "3331             184                   1                0   \n",
       "3332              74                   0                1   \n",
       "\n",
       "      number_vmail_messages  total_day_minutes  total_day_calls  \\\n",
       "0                        25              265.1              110   \n",
       "1                        26              161.6              123   \n",
       "2                         0              243.4              114   \n",
       "3                         0              299.4               71   \n",
       "4                         0              166.7              113   \n",
       "...                     ...                ...              ...   \n",
       "3328                     36              156.2               77   \n",
       "3329                      0              231.1               57   \n",
       "3330                      0              180.8              109   \n",
       "3331                      0              213.8              105   \n",
       "3332                     25              234.4              113   \n",
       "\n",
       "      total_day_charge  total_eve_minutes  total_eve_calls  total_eve_charge  \\\n",
       "0                45.07              197.4               99             16.78   \n",
       "1                27.47              195.5              103             16.62   \n",
       "2                41.38              121.2              110             10.30   \n",
       "3                50.90               61.9               88              5.26   \n",
       "4                28.34              148.3              122             12.61   \n",
       "...                ...                ...              ...               ...   \n",
       "3328             26.55              215.5              126             18.32   \n",
       "3329             39.29              153.4               55             13.04   \n",
       "3330             30.74              288.8               58             24.55   \n",
       "3331             36.35              159.6               84             13.57   \n",
       "3332             39.85              265.9               82             22.60   \n",
       "\n",
       "      total_night_minutes  total_night_calls  total_night_charge  \\\n",
       "0                   244.7                 91               11.01   \n",
       "1                   254.4                103               11.45   \n",
       "2                   162.6                104                7.32   \n",
       "3                   196.9                 89                8.86   \n",
       "4                   186.9                121                8.41   \n",
       "...                   ...                ...                 ...   \n",
       "3328                279.1                 83               12.56   \n",
       "3329                191.3                123                8.61   \n",
       "3330                191.9                 91                8.64   \n",
       "3331                139.2                137                6.26   \n",
       "3332                241.4                 77               10.86   \n",
       "\n",
       "      total_intl_minutes  total_intl_calls  total_intl_charge  \\\n",
       "0                   10.0                 3               2.70   \n",
       "1                   13.7                 3               3.70   \n",
       "2                   12.2                 5               3.29   \n",
       "3                    6.6                 7               1.78   \n",
       "4                   10.1                 3               2.73   \n",
       "...                  ...               ...                ...   \n",
       "3328                 9.9                 6               2.67   \n",
       "3329                 9.6                 4               2.59   \n",
       "3330                14.1                 6               3.81   \n",
       "3331                 5.0                10               1.35   \n",
       "3332                13.7                 4               3.70   \n",
       "\n",
       "      number_customer_service_calls  \n",
       "0                                 1  \n",
       "1                                 1  \n",
       "2                                 0  \n",
       "3                                 2  \n",
       "4                                 3  \n",
       "...                             ...  \n",
       "3328                              2  \n",
       "3329                              3  \n",
       "3330                              2  \n",
       "3331                              2  \n",
       "3332                              0  \n",
       "\n",
       "[3333 rows x 17 columns]"
      ]
     },
     "execution_count": 22,
     "metadata": {},
     "output_type": "execute_result"
    }
   ],
   "source": [
    "# Separando as variaveis numericas de strings\n",
    "VarTreino = VarTreino._get_numeric_data()\n",
    "\n",
    "# Criando uma lista com as variaveis com \n",
    "strings = ['state', 'area_code']\n",
    "VarTreinoStr = train[strings]\n",
    "\n",
    "VarTreino"
   ]
  },
  {
   "cell_type": "markdown",
   "metadata": {},
   "source": [
    "### Realizando normalização nos Dados"
   ]
  },
  {
   "cell_type": "code",
   "execution_count": 23,
   "metadata": {},
   "outputs": [
    {
     "data": {
      "text/html": [
       "<div>\n",
       "<style scoped>\n",
       "    .dataframe tbody tr th:only-of-type {\n",
       "        vertical-align: middle;\n",
       "    }\n",
       "\n",
       "    .dataframe tbody tr th {\n",
       "        vertical-align: top;\n",
       "    }\n",
       "\n",
       "    .dataframe thead th {\n",
       "        text-align: right;\n",
       "    }\n",
       "</style>\n",
       "<table border=\"1\" class=\"dataframe\">\n",
       "  <thead>\n",
       "    <tr style=\"text-align: right;\">\n",
       "      <th></th>\n",
       "      <th>account_length</th>\n",
       "      <th>international_plan</th>\n",
       "      <th>voice_mail_plan</th>\n",
       "      <th>number_vmail_messages</th>\n",
       "      <th>total_day_minutes</th>\n",
       "      <th>total_day_calls</th>\n",
       "      <th>total_day_charge</th>\n",
       "      <th>total_eve_minutes</th>\n",
       "      <th>total_eve_calls</th>\n",
       "      <th>total_eve_charge</th>\n",
       "      <th>total_night_minutes</th>\n",
       "      <th>total_night_calls</th>\n",
       "      <th>total_night_charge</th>\n",
       "      <th>total_intl_minutes</th>\n",
       "      <th>total_intl_calls</th>\n",
       "      <th>total_intl_charge</th>\n",
       "      <th>number_customer_service_calls</th>\n",
       "    </tr>\n",
       "  </thead>\n",
       "  <tbody>\n",
       "    <tr>\n",
       "      <th>0</th>\n",
       "      <td>0.524793</td>\n",
       "      <td>0.0</td>\n",
       "      <td>1.0</td>\n",
       "      <td>0.490196</td>\n",
       "      <td>0.755701</td>\n",
       "      <td>0.666667</td>\n",
       "      <td>0.755701</td>\n",
       "      <td>0.542755</td>\n",
       "      <td>0.582353</td>\n",
       "      <td>0.542866</td>\n",
       "      <td>0.595750</td>\n",
       "      <td>0.408451</td>\n",
       "      <td>0.595935</td>\n",
       "      <td>0.500</td>\n",
       "      <td>0.15</td>\n",
       "      <td>0.500000</td>\n",
       "      <td>0.111111</td>\n",
       "    </tr>\n",
       "    <tr>\n",
       "      <th>1</th>\n",
       "      <td>0.438017</td>\n",
       "      <td>0.0</td>\n",
       "      <td>1.0</td>\n",
       "      <td>0.509804</td>\n",
       "      <td>0.460661</td>\n",
       "      <td>0.745455</td>\n",
       "      <td>0.460597</td>\n",
       "      <td>0.537531</td>\n",
       "      <td>0.605882</td>\n",
       "      <td>0.537690</td>\n",
       "      <td>0.621840</td>\n",
       "      <td>0.492958</td>\n",
       "      <td>0.622236</td>\n",
       "      <td>0.685</td>\n",
       "      <td>0.15</td>\n",
       "      <td>0.685185</td>\n",
       "      <td>0.111111</td>\n",
       "    </tr>\n",
       "    <tr>\n",
       "      <th>2</th>\n",
       "      <td>0.561983</td>\n",
       "      <td>0.0</td>\n",
       "      <td>0.0</td>\n",
       "      <td>0.000000</td>\n",
       "      <td>0.693843</td>\n",
       "      <td>0.690909</td>\n",
       "      <td>0.693830</td>\n",
       "      <td>0.333242</td>\n",
       "      <td>0.647059</td>\n",
       "      <td>0.333225</td>\n",
       "      <td>0.374933</td>\n",
       "      <td>0.500000</td>\n",
       "      <td>0.375374</td>\n",
       "      <td>0.610</td>\n",
       "      <td>0.25</td>\n",
       "      <td>0.609259</td>\n",
       "      <td>0.000000</td>\n",
       "    </tr>\n",
       "    <tr>\n",
       "      <th>3</th>\n",
       "      <td>0.342975</td>\n",
       "      <td>1.0</td>\n",
       "      <td>0.0</td>\n",
       "      <td>0.000000</td>\n",
       "      <td>0.853478</td>\n",
       "      <td>0.430303</td>\n",
       "      <td>0.853454</td>\n",
       "      <td>0.170195</td>\n",
       "      <td>0.517647</td>\n",
       "      <td>0.170171</td>\n",
       "      <td>0.467187</td>\n",
       "      <td>0.394366</td>\n",
       "      <td>0.467424</td>\n",
       "      <td>0.330</td>\n",
       "      <td>0.35</td>\n",
       "      <td>0.329630</td>\n",
       "      <td>0.222222</td>\n",
       "    </tr>\n",
       "    <tr>\n",
       "      <th>4</th>\n",
       "      <td>0.305785</td>\n",
       "      <td>1.0</td>\n",
       "      <td>0.0</td>\n",
       "      <td>0.000000</td>\n",
       "      <td>0.475200</td>\n",
       "      <td>0.684848</td>\n",
       "      <td>0.475184</td>\n",
       "      <td>0.407754</td>\n",
       "      <td>0.717647</td>\n",
       "      <td>0.407959</td>\n",
       "      <td>0.440290</td>\n",
       "      <td>0.619718</td>\n",
       "      <td>0.440526</td>\n",
       "      <td>0.505</td>\n",
       "      <td>0.15</td>\n",
       "      <td>0.505556</td>\n",
       "      <td>0.333333</td>\n",
       "    </tr>\n",
       "  </tbody>\n",
       "</table>\n",
       "</div>"
      ],
      "text/plain": [
       "   account_length  international_plan  voice_mail_plan  number_vmail_messages  \\\n",
       "0        0.524793                 0.0              1.0               0.490196   \n",
       "1        0.438017                 0.0              1.0               0.509804   \n",
       "2        0.561983                 0.0              0.0               0.000000   \n",
       "3        0.342975                 1.0              0.0               0.000000   \n",
       "4        0.305785                 1.0              0.0               0.000000   \n",
       "\n",
       "   total_day_minutes  total_day_calls  total_day_charge  total_eve_minutes  \\\n",
       "0           0.755701         0.666667          0.755701           0.542755   \n",
       "1           0.460661         0.745455          0.460597           0.537531   \n",
       "2           0.693843         0.690909          0.693830           0.333242   \n",
       "3           0.853478         0.430303          0.853454           0.170195   \n",
       "4           0.475200         0.684848          0.475184           0.407754   \n",
       "\n",
       "   total_eve_calls  total_eve_charge  total_night_minutes  total_night_calls  \\\n",
       "0         0.582353          0.542866             0.595750           0.408451   \n",
       "1         0.605882          0.537690             0.621840           0.492958   \n",
       "2         0.647059          0.333225             0.374933           0.500000   \n",
       "3         0.517647          0.170171             0.467187           0.394366   \n",
       "4         0.717647          0.407959             0.440290           0.619718   \n",
       "\n",
       "   total_night_charge  total_intl_minutes  total_intl_calls  \\\n",
       "0            0.595935               0.500              0.15   \n",
       "1            0.622236               0.685              0.15   \n",
       "2            0.375374               0.610              0.25   \n",
       "3            0.467424               0.330              0.35   \n",
       "4            0.440526               0.505              0.15   \n",
       "\n",
       "   total_intl_charge  number_customer_service_calls  \n",
       "0           0.500000                       0.111111  \n",
       "1           0.685185                       0.111111  \n",
       "2           0.609259                       0.000000  \n",
       "3           0.329630                       0.222222  \n",
       "4           0.505556                       0.333333  "
      ]
     },
     "execution_count": 23,
     "metadata": {},
     "output_type": "execute_result"
    }
   ],
   "source": [
    "scaler = MinMaxScaler()\n",
    "# Aplicando a escala no Dataset\n",
    "VarTreinoNormalizadas = scaler.fit_transform(VarTreino)\n",
    "\n",
    "# Criando um DataFrame com os resultados obtidos.\n",
    "VarTreinoNormalizadas = pd.DataFrame(data = VarTreinoNormalizadas, columns = VarTreino.columns)\n",
    "\n",
    "VarTreinoNormalizadas.head()"
   ]
  },
  {
   "cell_type": "markdown",
   "metadata": {},
   "source": [
    "### Realizando Padronização nos Dados"
   ]
  },
  {
   "cell_type": "code",
   "execution_count": 24,
   "metadata": {
    "scrolled": true
   },
   "outputs": [
    {
     "data": {
      "text/html": [
       "<div>\n",
       "<style scoped>\n",
       "    .dataframe tbody tr th:only-of-type {\n",
       "        vertical-align: middle;\n",
       "    }\n",
       "\n",
       "    .dataframe tbody tr th {\n",
       "        vertical-align: top;\n",
       "    }\n",
       "\n",
       "    .dataframe thead th {\n",
       "        text-align: right;\n",
       "    }\n",
       "</style>\n",
       "<table border=\"1\" class=\"dataframe\">\n",
       "  <thead>\n",
       "    <tr style=\"text-align: right;\">\n",
       "      <th></th>\n",
       "      <th>account_length</th>\n",
       "      <th>international_plan</th>\n",
       "      <th>voice_mail_plan</th>\n",
       "      <th>number_vmail_messages</th>\n",
       "      <th>total_day_minutes</th>\n",
       "      <th>total_day_calls</th>\n",
       "      <th>total_day_charge</th>\n",
       "      <th>total_eve_minutes</th>\n",
       "      <th>total_eve_calls</th>\n",
       "      <th>total_eve_charge</th>\n",
       "      <th>total_night_minutes</th>\n",
       "      <th>total_night_calls</th>\n",
       "      <th>total_night_charge</th>\n",
       "      <th>total_intl_minutes</th>\n",
       "      <th>total_intl_calls</th>\n",
       "      <th>total_intl_charge</th>\n",
       "      <th>number_customer_service_calls</th>\n",
       "    </tr>\n",
       "  </thead>\n",
       "  <tbody>\n",
       "    <tr>\n",
       "      <th>0</th>\n",
       "      <td>0.676489</td>\n",
       "      <td>-0.327580</td>\n",
       "      <td>1.617086</td>\n",
       "      <td>1.234883</td>\n",
       "      <td>1.566767</td>\n",
       "      <td>0.476643</td>\n",
       "      <td>1.567036</td>\n",
       "      <td>-0.070610</td>\n",
       "      <td>-0.055940</td>\n",
       "      <td>-0.070427</td>\n",
       "      <td>0.866743</td>\n",
       "      <td>-0.465494</td>\n",
       "      <td>0.866029</td>\n",
       "      <td>-0.085008</td>\n",
       "      <td>-0.601195</td>\n",
       "      <td>-0.085690</td>\n",
       "      <td>-0.427932</td>\n",
       "    </tr>\n",
       "    <tr>\n",
       "      <th>1</th>\n",
       "      <td>0.149065</td>\n",
       "      <td>-0.327580</td>\n",
       "      <td>1.617086</td>\n",
       "      <td>1.307948</td>\n",
       "      <td>-0.333738</td>\n",
       "      <td>1.124503</td>\n",
       "      <td>-0.334013</td>\n",
       "      <td>-0.108080</td>\n",
       "      <td>0.144867</td>\n",
       "      <td>-0.107549</td>\n",
       "      <td>1.058571</td>\n",
       "      <td>0.147825</td>\n",
       "      <td>1.059390</td>\n",
       "      <td>1.240482</td>\n",
       "      <td>-0.601195</td>\n",
       "      <td>1.241169</td>\n",
       "      <td>-0.427932</td>\n",
       "    </tr>\n",
       "    <tr>\n",
       "      <th>2</th>\n",
       "      <td>0.902529</td>\n",
       "      <td>-0.327580</td>\n",
       "      <td>-0.618396</td>\n",
       "      <td>-0.591760</td>\n",
       "      <td>1.168304</td>\n",
       "      <td>0.675985</td>\n",
       "      <td>1.168464</td>\n",
       "      <td>-1.573383</td>\n",
       "      <td>0.496279</td>\n",
       "      <td>-1.573900</td>\n",
       "      <td>-0.756869</td>\n",
       "      <td>0.198935</td>\n",
       "      <td>-0.755571</td>\n",
       "      <td>0.703121</td>\n",
       "      <td>0.211534</td>\n",
       "      <td>0.697156</td>\n",
       "      <td>-1.188218</td>\n",
       "    </tr>\n",
       "    <tr>\n",
       "      <th>3</th>\n",
       "      <td>-0.428590</td>\n",
       "      <td>3.052685</td>\n",
       "      <td>-0.618396</td>\n",
       "      <td>-0.591760</td>\n",
       "      <td>2.196596</td>\n",
       "      <td>-1.466936</td>\n",
       "      <td>2.196759</td>\n",
       "      <td>-2.742865</td>\n",
       "      <td>-0.608159</td>\n",
       "      <td>-2.743268</td>\n",
       "      <td>-0.078551</td>\n",
       "      <td>-0.567714</td>\n",
       "      <td>-0.078806</td>\n",
       "      <td>-1.303026</td>\n",
       "      <td>1.024263</td>\n",
       "      <td>-1.306401</td>\n",
       "      <td>0.332354</td>\n",
       "    </tr>\n",
       "    <tr>\n",
       "      <th>4</th>\n",
       "      <td>-0.654629</td>\n",
       "      <td>3.052685</td>\n",
       "      <td>-0.618396</td>\n",
       "      <td>-0.591760</td>\n",
       "      <td>-0.240090</td>\n",
       "      <td>0.626149</td>\n",
       "      <td>-0.240041</td>\n",
       "      <td>-1.038932</td>\n",
       "      <td>1.098699</td>\n",
       "      <td>-1.037939</td>\n",
       "      <td>-0.276311</td>\n",
       "      <td>1.067803</td>\n",
       "      <td>-0.276562</td>\n",
       "      <td>-0.049184</td>\n",
       "      <td>-0.601195</td>\n",
       "      <td>-0.045885</td>\n",
       "      <td>1.092641</td>\n",
       "    </tr>\n",
       "  </tbody>\n",
       "</table>\n",
       "</div>"
      ],
      "text/plain": [
       "   account_length  international_plan  voice_mail_plan  number_vmail_messages  \\\n",
       "0        0.676489           -0.327580         1.617086               1.234883   \n",
       "1        0.149065           -0.327580         1.617086               1.307948   \n",
       "2        0.902529           -0.327580        -0.618396              -0.591760   \n",
       "3       -0.428590            3.052685        -0.618396              -0.591760   \n",
       "4       -0.654629            3.052685        -0.618396              -0.591760   \n",
       "\n",
       "   total_day_minutes  total_day_calls  total_day_charge  total_eve_minutes  \\\n",
       "0           1.566767         0.476643          1.567036          -0.070610   \n",
       "1          -0.333738         1.124503         -0.334013          -0.108080   \n",
       "2           1.168304         0.675985          1.168464          -1.573383   \n",
       "3           2.196596        -1.466936          2.196759          -2.742865   \n",
       "4          -0.240090         0.626149         -0.240041          -1.038932   \n",
       "\n",
       "   total_eve_calls  total_eve_charge  total_night_minutes  total_night_calls  \\\n",
       "0        -0.055940         -0.070427             0.866743          -0.465494   \n",
       "1         0.144867         -0.107549             1.058571           0.147825   \n",
       "2         0.496279         -1.573900            -0.756869           0.198935   \n",
       "3        -0.608159         -2.743268            -0.078551          -0.567714   \n",
       "4         1.098699         -1.037939            -0.276311           1.067803   \n",
       "\n",
       "   total_night_charge  total_intl_minutes  total_intl_calls  \\\n",
       "0            0.866029           -0.085008         -0.601195   \n",
       "1            1.059390            1.240482         -0.601195   \n",
       "2           -0.755571            0.703121          0.211534   \n",
       "3           -0.078806           -1.303026          1.024263   \n",
       "4           -0.276562           -0.049184         -0.601195   \n",
       "\n",
       "   total_intl_charge  number_customer_service_calls  \n",
       "0          -0.085690                      -0.427932  \n",
       "1           1.241169                      -0.427932  \n",
       "2           0.697156                      -1.188218  \n",
       "3          -1.306401                       0.332354  \n",
       "4          -0.045885                       1.092641  "
      ]
     },
     "execution_count": 24,
     "metadata": {},
     "output_type": "execute_result"
    }
   ],
   "source": [
    "Standard = StandardScaler()\n",
    "\n",
    "# Aplicando a escala no Dataset\n",
    "VarTreinoPadronizadas = Standard.fit_transform(VarTreino)\n",
    "\n",
    "# Criando um DataFrame com os resultados obtidos.\n",
    "VarTreinoPadronizadas = pd.DataFrame(data = VarTreinoPadronizadas, columns = VarTreino.columns)\n",
    "\n",
    "VarTreinoPadronizadas.head()"
   ]
  },
  {
   "cell_type": "markdown",
   "metadata": {},
   "source": [
    "### Feature Selection"
   ]
  },
  {
   "cell_type": "markdown",
   "metadata": {},
   "source": [
    "####  Eliminação Recursiva de Atributos"
   ]
  },
  {
   "cell_type": "markdown",
   "metadata": {},
   "source": [
    "Esta é uma técnica para seleção de atributos, que recursivamente remove os atributos e constrói o modelo com os atributos remanescentes. Esta técnica utiliza a acurácia do modelo para identificar os atributos que mais contribuem para prever a variável alvo. Em inglês esta técnia é chamada Recursive Feature Elimination (RFE)."
   ]
  },
  {
   "cell_type": "code",
   "execution_count": 25,
   "metadata": {},
   "outputs": [],
   "source": [
    "# Para a utilização correta da ferramenta, irei utilizar os dados NORMALIZADOS\n",
    "X = VarTreinoNormalizadas\n",
    "Y = targetTreino\n",
    "\n",
    "# Criando a instancia da ferramenta para selecionar as top 5 variaveis\n",
    "rfe = RFE (estimator= xgb.XGBClassifier(), \n",
    "    n_features_to_select = 5)\n",
    "\n",
    "# Realizando o treinamento\n",
    "rfeFit = rfe.fit (X = X, \n",
    "                  y = Y)"
   ]
  },
  {
   "cell_type": "code",
   "execution_count": 26,
   "metadata": {},
   "outputs": [
    {
     "data": {
      "text/plain": [
       "Index(['international_plan', 'voice_mail_plan', 'total_day_minutes',\n",
       "       'total_intl_calls', 'number_customer_service_calls'],\n",
       "      dtype='object')"
      ]
     },
     "execution_count": 26,
     "metadata": {},
     "output_type": "execute_result"
    }
   ],
   "source": [
    "# Capturando o nome das melhores variáveis preditoras.\n",
    "rfeVAR = X.columns[rfeFit.support_]\n",
    "\n",
    "# Exibindo o nome das melhores variáveis preditoras.\n",
    "rfeVAR"
   ]
  },
  {
   "cell_type": "markdown",
   "metadata": {},
   "source": [
    "#### Forward Selection"
   ]
  },
  {
   "cell_type": "markdown",
   "metadata": {},
   "source": [
    "O Forward Selection é um método iterativo, no qual começamos sem ter nenhum recurso no modelo. A cada iteração, adicionamos uma variável que melhora o modelo e efetuamos este procedimento até que a performance do modelo pare de evoluir."
   ]
  },
  {
   "cell_type": "code",
   "execution_count": 27,
   "metadata": {},
   "outputs": [
    {
     "name": "stderr",
     "output_type": "stream",
     "text": [
      "[Parallel(n_jobs=1)]: Using backend SequentialBackend with 1 concurrent workers.\n",
      "[Parallel(n_jobs=1)]: Done   1 out of   1 | elapsed:    0.1s remaining:    0.0s\n",
      "[Parallel(n_jobs=1)]: Done  17 out of  17 | elapsed:    3.4s finished\n",
      "\n",
      "[2021-11-14 21:47:56] Features: 1/5 -- score: 0.6420507791217175[Parallel(n_jobs=1)]: Using backend SequentialBackend with 1 concurrent workers.\n",
      "[Parallel(n_jobs=1)]: Done   1 out of   1 | elapsed:    0.2s remaining:    0.0s\n",
      "[Parallel(n_jobs=1)]: Done  16 out of  16 | elapsed:    4.5s finished\n",
      "\n",
      "[2021-11-14 21:48:00] Features: 2/5 -- score: 0.7642737277977553[Parallel(n_jobs=1)]: Using backend SequentialBackend with 1 concurrent workers.\n",
      "[Parallel(n_jobs=1)]: Done   1 out of   1 | elapsed:    0.2s remaining:    0.0s\n",
      "[Parallel(n_jobs=1)]: Done  15 out of  15 | elapsed:    4.2s finished\n",
      "\n",
      "[2021-11-14 21:48:05] Features: 3/5 -- score: 0.8386586030293124[Parallel(n_jobs=1)]: Using backend SequentialBackend with 1 concurrent workers.\n",
      "[Parallel(n_jobs=1)]: Done   1 out of   1 | elapsed:    0.2s remaining:    0.0s\n",
      "[Parallel(n_jobs=1)]: Done  14 out of  14 | elapsed:    4.8s finished\n",
      "\n",
      "[2021-11-14 21:48:09] Features: 4/5 -- score: 0.8737408739239404[Parallel(n_jobs=1)]: Using backend SequentialBackend with 1 concurrent workers.\n",
      "[Parallel(n_jobs=1)]: Done   1 out of   1 | elapsed:    0.3s remaining:    0.0s\n",
      "[Parallel(n_jobs=1)]: Done  13 out of  13 | elapsed:    6.2s finished\n",
      "\n",
      "[2021-11-14 21:48:16] Features: 5/5 -- score: 0.8868954996186117"
     ]
    }
   ],
   "source": [
    "# Definindo qual conjunto de dados, já escalado, deve ser utilizado.\n",
    "tFeatures = VarTreinoNormalizadas\n",
    "\n",
    "# Instanciando um objeto da classe SFS para selecionar as 5 melhores variáveis preditoras segundo sua acurácia, \n",
    "# utilizando o algoritmo XGBClassifer.\n",
    "\n",
    "sfs = SFS (\n",
    "    estimator  = xgb.XGBClassifier(), \n",
    "    k_features = 5,\n",
    "    forward    = True, \n",
    "    floating   = False, \n",
    "    verbose    = 2,\n",
    "    scoring    = 'roc_auc',\n",
    "    cv         = 3)\n",
    "\n",
    "# Capturando as melhores variáveis preditoras.\n",
    "sfs = sfs.fit(\n",
    "    X = tFeatures, \n",
    "    y = targetTreino)"
   ]
  },
  {
   "cell_type": "code",
   "execution_count": 28,
   "metadata": {},
   "outputs": [
    {
     "data": {
      "text/plain": [
       "Index(['international_plan', 'number_vmail_messages', 'total_day_charge',\n",
       "       'total_eve_charge', 'number_customer_service_calls'],\n",
       "      dtype='object')"
      ]
     },
     "execution_count": 28,
     "metadata": {},
     "output_type": "execute_result"
    }
   ],
   "source": [
    "# Capturando o nome das melhores variáveis preditoras.\n",
    "fs = tFeatures.columns[list(sfs.k_feature_idx_)]\n",
    "\n",
    "# Exibindo o nome das melhores variáveis preditoras.\n",
    "fs"
   ]
  },
  {
   "cell_type": "code",
   "execution_count": 29,
   "metadata": {},
   "outputs": [
    {
     "name": "stdout",
     "output_type": "stream",
     "text": [
      "Index(['international_plan', 'voice_mail_plan', 'total_day_minutes',\n",
      "       'total_intl_calls', 'number_customer_service_calls'],\n",
      "      dtype='object')\n",
      "Index(['international_plan', 'number_vmail_messages', 'total_day_charge',\n",
      "       'total_eve_charge', 'number_customer_service_calls'],\n",
      "      dtype='object')\n"
     ]
    }
   ],
   "source": [
    "#Verficando se ambas técnicas obtiveram o mesmo resultado:\n",
    "print(rfeVAR)\n",
    "print(fs)"
   ]
  },
  {
   "cell_type": "markdown",
   "metadata": {},
   "source": [
    "Como podemos ver, ouve algumas diferenças e igualdades\n",
    "\n",
    "Como igualdade, ambos os modelos escolheram as variaveis: international_plan, number_customer_service_calls"
   ]
  },
  {
   "cell_type": "markdown",
   "metadata": {},
   "source": [
    "###### Pela técnica de RFE, temos as variaveis: voice_mail_plan, total_day_minutes e total_intl_calls"
   ]
  },
  {
   "cell_type": "markdown",
   "metadata": {},
   "source": [
    "###### Pela técnica de Forward Selection, temos as variaveis: number_vmail_messages, total_day_charge, total_eve_charge"
   ]
  },
  {
   "cell_type": "markdown",
   "metadata": {},
   "source": [
    "# Analise Preditiva / Avaliação de Perfomance"
   ]
  },
  {
   "cell_type": "markdown",
   "metadata": {},
   "source": [
    "Nessa etapa irei realizar diversos testes para descobrir qual é o melhor pré processamento que devo utilizar nos dados. Utilizando como principal métrica a curva ROC"
   ]
  },
  {
   "cell_type": "markdown",
   "metadata": {},
   "source": [
    "### Dados Sem Transformação (RFE)"
   ]
  },
  {
   "cell_type": "code",
   "execution_count": 30,
   "metadata": {
    "scrolled": true
   },
   "outputs": [
    {
     "name": "stdout",
     "output_type": "stream",
     "text": [
      "LR: 0.808589 (0.037067)\n",
      "LDA: 0.813102 (0.037981)\n",
      "NB: 0.841363 (0.042398)\n",
      "KNN: 0.740202 (0.040725)\n",
      "CART: 0.722126 (0.024123)\n",
      "SVM: 0.738251 (0.048493)\n",
      "XGBoost: 0.861315 (0.034115)\n"
     ]
    },
    {
     "data": {
      "image/png": "[encoded data removed]",
      "text/plain": [
       "<Figure size 432x288 with 1 Axes>"
      ]
     },
     "metadata": {},
     "output_type": "display_data"
    }
   ],
   "source": [
    "# Carregando os dados\n",
    "array = VarTreino[rfeVAR].values\n",
    "\n",
    "# Separando o array em componentes de input e output\n",
    "X = array[:,0:5]\n",
    "Y = targetTreino\n",
    "\n",
    "# Definindo os valores para os folds\n",
    "num_folds = 10\n",
    "seed = 7\n",
    "\n",
    "# Separando os dados em folds\n",
    "kfold = KFold(num_folds, True, random_state = seed)\n",
    "\n",
    "# Preparando a lista de modelos\n",
    "modelos = []\n",
    "modelos.append(('LR', LogisticRegression()))\n",
    "modelos.append(('LDA', LinearDiscriminantAnalysis()))\n",
    "modelos.append(('NB', GaussianNB()))\n",
    "modelos.append(('KNN', KNeighborsClassifier()))\n",
    "modelos.append(('CART', DecisionTreeClassifier()))\n",
    "modelos.append(('SVM', SVC()))\n",
    "modelos.append(('XGBoost', xgb.XGBClassifier()))\n",
    "\n",
    "# Avaliando cada modelo em um loop\n",
    "resultados = []\n",
    "nomes = []\n",
    "\n",
    "for nome, modelo in modelos:\n",
    "    kfold = KFold(n_splits = num_folds, random_state = seed)\n",
    "    cv_results = cross_val_score(modelo, X, Y, cv = kfold, scoring = 'roc_auc')\n",
    "    resultados.append(cv_results)\n",
    "    nomes.append(nome)\n",
    "    msg = \"%s: %f (%f)\" % (nome, cv_results.mean(), cv_results.std())\n",
    "    print(msg)\n",
    "\n",
    "# Boxplot para comparar os algoritmos\n",
    "fig = plt.figure()\n",
    "fig.suptitle('Comparação de Algoritmos de Classificação')\n",
    "ax = fig.add_subplot(111)\n",
    "plt.boxplot(resultados)\n",
    "ax.set_xticklabels(nomes)\n",
    "plt.show()"
   ]
  },
  {
   "cell_type": "markdown",
   "metadata": {},
   "source": [
    "### Dados Sem Transformação (Forward Selection)"
   ]
  },
  {
   "cell_type": "code",
   "execution_count": 31,
   "metadata": {
    "scrolled": true
   },
   "outputs": [
    {
     "name": "stdout",
     "output_type": "stream",
     "text": [
      "LR: 0.811581 (0.047814)\n",
      "LDA: 0.817633 (0.044701)\n",
      "NB: 0.846116 (0.047970)\n",
      "KNN: 0.778981 (0.042487)\n",
      "CART: 0.772986 (0.032290)\n",
      "SVM: 0.831874 (0.039544)\n",
      "XGBoost: 0.893697 (0.035427)\n"
     ]
    },
    {
     "data": {
      "image/png": "[encoded data removed]",
      "text/plain": [
       "<Figure size 432x288 with 1 Axes>"
      ]
     },
     "metadata": {},
     "output_type": "display_data"
    }
   ],
   "source": [
    "# Carregando os dados\n",
    "array = VarTreino[fs].values\n",
    "\n",
    "# Separando o array em componentes de input e output\n",
    "X = array[:,0:5]\n",
    "Y = targetTreino\n",
    "\n",
    "# Definindo os valores para os folds\n",
    "num_folds = 10\n",
    "seed = 7\n",
    "\n",
    "# Separando os dados em folds\n",
    "kfold = KFold(num_folds, True, random_state = seed)\n",
    "\n",
    "# Preparando a lista de modelos\n",
    "modelos = []\n",
    "modelos.append(('LR', LogisticRegression()))\n",
    "modelos.append(('LDA', LinearDiscriminantAnalysis()))\n",
    "modelos.append(('NB', GaussianNB()))\n",
    "modelos.append(('KNN', KNeighborsClassifier()))\n",
    "modelos.append(('CART', DecisionTreeClassifier()))\n",
    "modelos.append(('SVM', SVC()))\n",
    "modelos.append(('XGBoost', xgb.XGBClassifier()))\n",
    "\n",
    "# Avaliando cada modelo em um loop\n",
    "resultados = []\n",
    "nomes = []\n",
    "\n",
    "for nome, modelo in modelos:\n",
    "    kfold = KFold(n_splits = num_folds, random_state = seed)\n",
    "    cv_results = cross_val_score(modelo, X, Y, cv = kfold, scoring = 'roc_auc')\n",
    "    resultados.append(cv_results)\n",
    "    nomes.append(nome)\n",
    "    msg = \"%s: %f (%f)\" % (nome, cv_results.mean(), cv_results.std())\n",
    "    print(msg)\n",
    "\n",
    "# Boxplot para comparar os algoritmos\n",
    "fig = plt.figure()\n",
    "fig.suptitle('Comparação de Algoritmos de Classificação')\n",
    "ax = fig.add_subplot(111)\n",
    "plt.boxplot(resultados)\n",
    "ax.set_xticklabels(nomes)\n",
    "plt.show()"
   ]
  },
  {
   "cell_type": "markdown",
   "metadata": {},
   "source": [
    "Podemos ver que utilizando o cojunto de variaveis pela Forward Selection, teve um desempenho um pouco melhor.\n",
    "E em ambos os casos, o melhor modelo foi o XGBoost."
   ]
  },
  {
   "cell_type": "markdown",
   "metadata": {},
   "source": [
    "### Dados Normalizados com Forward Selection"
   ]
  },
  {
   "cell_type": "code",
   "execution_count": 32,
   "metadata": {
    "scrolled": true
   },
   "outputs": [
    {
     "name": "stdout",
     "output_type": "stream",
     "text": [
      "LR: 0.813475 (0.048318)\n",
      "LDA: 0.817633 (0.044701)\n",
      "NB: 0.846116 (0.047970)\n",
      "KNN: 0.864162 (0.036348)\n",
      "CART: 0.775043 (0.032614)\n",
      "SVM: 0.893630 (0.034707)\n",
      "XGBoost: 0.893656 (0.035341)\n"
     ]
    },
    {
     "data": {
      "image/png": "[encoded data removed]",
      "text/plain": [
       "<Figure size 432x288 with 1 Axes>"
      ]
     },
     "metadata": {},
     "output_type": "display_data"
    }
   ],
   "source": [
    "# Carregando os dados\n",
    "array = VarTreinoNormalizadas[fs].values\n",
    "\n",
    "# Separando o array em componentes de input e output\n",
    "X = array[:,0:5]\n",
    "Y = targetTreino\n",
    "\n",
    "# Definindo os valores para os folds\n",
    "num_folds = 10\n",
    "seed = 7\n",
    "\n",
    "# Separando os dados em folds\n",
    "kfold = KFold(num_folds, True, random_state = seed)\n",
    "\n",
    "# Preparando a lista de modelos\n",
    "modelos = []\n",
    "modelos.append(('LR', LogisticRegression()))\n",
    "modelos.append(('LDA', LinearDiscriminantAnalysis()))\n",
    "modelos.append(('NB', GaussianNB()))\n",
    "modelos.append(('KNN', KNeighborsClassifier()))\n",
    "modelos.append(('CART', DecisionTreeClassifier()))\n",
    "modelos.append(('SVM', SVC()))\n",
    "modelos.append(('XGBoost', xgb.XGBClassifier()))\n",
    "\n",
    "# Avaliando cada modelo em um loop\n",
    "resultados = []\n",
    "nomes = []\n",
    "\n",
    "for nome, modelo in modelos:\n",
    "    kfold = KFold(n_splits = num_folds, random_state = seed)\n",
    "    cv_results = cross_val_score(modelo, X, Y, cv = kfold, scoring = 'roc_auc')\n",
    "    resultados.append(cv_results)\n",
    "    nomes.append(nome)\n",
    "    msg = \"%s: %f (%f)\" % (nome, cv_results.mean(), cv_results.std())\n",
    "    print(msg)\n",
    "\n",
    "# Boxplot para comparar os algoritmos\n",
    "fig = plt.figure()\n",
    "fig.suptitle('Comparação de Algoritmos de Classificação')\n",
    "ax = fig.add_subplot(111)\n",
    "plt.boxplot(resultados)\n",
    "ax.set_xticklabels(nomes)\n",
    "plt.show()"
   ]
  },
  {
   "cell_type": "markdown",
   "metadata": {},
   "source": [
    "### Dados Padronizados com Forward Selection"
   ]
  },
  {
   "cell_type": "code",
   "execution_count": 33,
   "metadata": {
    "scrolled": true
   },
   "outputs": [
    {
     "name": "stdout",
     "output_type": "stream",
     "text": [
      "LR: 0.811942 (0.047747)\n",
      "LDA: 0.817633 (0.044701)\n",
      "NB: 0.846116 (0.047970)\n",
      "KNN: 0.864084 (0.033525)\n",
      "CART: 0.771100 (0.032929)\n",
      "SVM: 0.895863 (0.034965)\n",
      "XGBoost: 0.893699 (0.035244)\n"
     ]
    },
    {
     "data": {
      "image/png": "[encoded data removed]",
      "text/plain": [
       "<Figure size 432x288 with 1 Axes>"
      ]
     },
     "metadata": {},
     "output_type": "display_data"
    }
   ],
   "source": [
    "# Carregando os dados\n",
    "array = VarTreinoPadronizadas[fs].values\n",
    "\n",
    "# Separando o array em componentes de input e output\n",
    "X = array[:,0:5]\n",
    "Y = targetTreino\n",
    "\n",
    "# Definindo os valores para os folds\n",
    "num_folds = 10\n",
    "seed = 7\n",
    "\n",
    "# Separando os dados em folds\n",
    "kfold = KFold(num_folds, True, random_state = seed)\n",
    "\n",
    "# Preparando a lista de modelos\n",
    "modelos = []\n",
    "modelos.append(('LR', LogisticRegression()))\n",
    "modelos.append(('LDA', LinearDiscriminantAnalysis()))\n",
    "modelos.append(('NB', GaussianNB()))\n",
    "modelos.append(('KNN', KNeighborsClassifier()))\n",
    "modelos.append(('CART', DecisionTreeClassifier()))\n",
    "modelos.append(('SVM', SVC()))\n",
    "modelos.append(('XGBoost', xgb.XGBClassifier()))\n",
    "\n",
    "# Avaliando cada modelo em um loop\n",
    "resultados = []\n",
    "nomes = []\n",
    "\n",
    "for nome, modelo in modelos:\n",
    "    kfold = KFold(n_splits = num_folds, random_state = seed)\n",
    "    cv_results = cross_val_score(modelo, X, Y, cv = kfold, scoring = 'roc_auc')\n",
    "    resultados.append(cv_results)\n",
    "    nomes.append(nome)\n",
    "    msg = \"%s: %f (%f)\" % (nome, cv_results.mean(), cv_results.std())\n",
    "    print(msg)\n",
    "\n",
    "# Boxplot para comparar os algoritmos\n",
    "fig = plt.figure()\n",
    "fig.suptitle('Comparação de Algoritmos de Classificação')\n",
    "ax = fig.add_subplot(111)\n",
    "plt.boxplot(resultados)\n",
    "ax.set_xticklabels(nomes)\n",
    "plt.show()"
   ]
  },
  {
   "cell_type": "markdown",
   "metadata": {},
   "source": [
    "Com essa nova rodada de teste, podemos ver que a melhor técnica de pré processamento de dados foi a Padronização, com um desempenho maximo de 0.893699 no Modelo XGBoost"
   ]
  },
  {
   "cell_type": "markdown",
   "metadata": {},
   "source": [
    "### Dados Normalizados com RFE"
   ]
  },
  {
   "cell_type": "code",
   "execution_count": 34,
   "metadata": {
    "scrolled": true
   },
   "outputs": [
    {
     "name": "stdout",
     "output_type": "stream",
     "text": [
      "LR: 0.809905 (0.038973)\n",
      "LDA: 0.813102 (0.037981)\n",
      "NB: 0.841363 (0.042398)\n",
      "KNN: 0.836626 (0.026870)\n",
      "CART: 0.722569 (0.025871)\n",
      "SVM: 0.857410 (0.032155)\n",
      "XGBoost: 0.861354 (0.034121)\n"
     ]
    },
    {
     "data": {
      "image/png": "[encoded data removed]",
      "text/plain": [
       "<Figure size 432x288 with 1 Axes>"
      ]
     },
     "metadata": {},
     "output_type": "display_data"
    }
   ],
   "source": [
    "# Carregando os dados\n",
    "array = VarTreinoNormalizadas[rfeVAR].values\n",
    "\n",
    "# Separando o array em componentes de input e output\n",
    "X = array[:,0:5]\n",
    "Y = targetTreino\n",
    "\n",
    "# Definindo os valores para os folds\n",
    "num_folds = 10\n",
    "seed = 7\n",
    "\n",
    "# Separando os dados em folds\n",
    "kfold = KFold(num_folds, True, random_state = seed)\n",
    "\n",
    "# Preparando a lista de modelos\n",
    "modelos = []\n",
    "modelos.append(('LR', LogisticRegression()))\n",
    "modelos.append(('LDA', LinearDiscriminantAnalysis()))\n",
    "modelos.append(('NB', GaussianNB()))\n",
    "modelos.append(('KNN', KNeighborsClassifier()))\n",
    "modelos.append(('CART', DecisionTreeClassifier()))\n",
    "modelos.append(('SVM', SVC()))\n",
    "modelos.append(('XGBoost', xgb.XGBClassifier()))\n",
    "\n",
    "# Avaliando cada modelo em um loop\n",
    "resultados = []\n",
    "nomes = []\n",
    "\n",
    "for nome, modelo in modelos:\n",
    "    kfold = KFold(n_splits = num_folds, random_state = seed)\n",
    "    cv_results = cross_val_score(modelo, X, Y, cv = kfold, scoring = 'roc_auc')\n",
    "    resultados.append(cv_results)\n",
    "    nomes.append(nome)\n",
    "    msg = \"%s: %f (%f)\" % (nome, cv_results.mean(), cv_results.std())\n",
    "    print(msg)\n",
    "\n",
    "# Boxplot para comparar os algoritmos\n",
    "fig = plt.figure()\n",
    "fig.suptitle('Comparação de Algoritmos de Classificação')\n",
    "ax = fig.add_subplot(111)\n",
    "plt.boxplot(resultados)\n",
    "ax.set_xticklabels(nomes)\n",
    "plt.show()"
   ]
  },
  {
   "cell_type": "markdown",
   "metadata": {},
   "source": [
    "### Dados Padronizados com RFE"
   ]
  },
  {
   "cell_type": "code",
   "execution_count": 35,
   "metadata": {
    "scrolled": true
   },
   "outputs": [
    {
     "name": "stdout",
     "output_type": "stream",
     "text": [
      "LR: 0.809029 (0.037465)\n",
      "LDA: 0.813102 (0.037981)\n",
      "NB: 0.841363 (0.042398)\n",
      "KNN: 0.836680 (0.023014)\n",
      "CART: 0.720827 (0.024576)\n",
      "SVM: 0.849483 (0.036427)\n",
      "XGBoost: 0.861274 (0.034301)\n"
     ]
    },
    {
     "data": {
      "image/png": "[encoded data removed]",
      "text/plain": [
       "<Figure size 432x288 with 1 Axes>"
      ]
     },
     "metadata": {},
     "output_type": "display_data"
    }
   ],
   "source": [
    "# Carregando os dados\n",
    "array = VarTreinoPadronizadas[rfeVAR].values\n",
    "\n",
    "# Separando o array em componentes de input e output\n",
    "X = array[:,0:5]\n",
    "Y = targetTreino\n",
    "\n",
    "# Definindo os valores para os folds\n",
    "num_folds = 10\n",
    "seed = 7\n",
    "\n",
    "# Separando os dados em folds\n",
    "kfold = KFold(num_folds, True, random_state = seed)\n",
    "\n",
    "# Preparando a lista de modelos\n",
    "modelos = []\n",
    "modelos.append(('LR', LogisticRegression()))\n",
    "modelos.append(('LDA', LinearDiscriminantAnalysis()))\n",
    "modelos.append(('NB', GaussianNB()))\n",
    "modelos.append(('KNN', KNeighborsClassifier()))\n",
    "modelos.append(('CART', DecisionTreeClassifier()))\n",
    "modelos.append(('SVM', SVC()))\n",
    "modelos.append(('XGBoost', xgb.XGBClassifier()))\n",
    "\n",
    "# Avaliando cada modelo em um loop\n",
    "resultados = []\n",
    "nomes = []\n",
    "\n",
    "for nome, modelo in modelos:\n",
    "    kfold = KFold(n_splits = num_folds, random_state = seed)\n",
    "    cv_results = cross_val_score(modelo, X, Y, cv = kfold, scoring = 'roc_auc')\n",
    "    resultados.append(cv_results)\n",
    "    nomes.append(nome)\n",
    "    msg = \"%s: %f (%f)\" % (nome, cv_results.mean(), cv_results.std())\n",
    "    print(msg)\n",
    "\n",
    "# Boxplot para comparar os algoritmos\n",
    "fig = plt.figure()\n",
    "fig.suptitle('Comparação de Algoritmos de Classificação')\n",
    "ax = fig.add_subplot(111)\n",
    "plt.boxplot(resultados)\n",
    "ax.set_xticklabels(nomes)\n",
    "plt.show()"
   ]
  },
  {
   "cell_type": "markdown",
   "metadata": {},
   "source": [
    "Podemos concluir com essa rodada de teste que a melhor técnica de padronização nos dados foi utilizando a técnica da Padronização e com as variaveis do Forward Selection"
   ]
  },
  {
   "cell_type": "markdown",
   "metadata": {},
   "source": [
    "### Rebalanceando a classes de clientes"
   ]
  },
  {
   "cell_type": "markdown",
   "metadata": {},
   "source": [
    "Como apenas existem muito mais dados de clientes iatisfeitos, pode acontecer do nosso algoritimo aprender muito como identificar clientes satisfeitos porém não conseguir realizar uma boa previsão para clientes insatisfeitos. "
   ]
  },
  {
   "cell_type": "markdown",
   "metadata": {},
   "source": [
    "Para tentar evitar esse problema, vou utilizar a técnica SMOTE (Synthetic Minority Over-sampling Technique)"
   ]
  },
  {
   "cell_type": "markdown",
   "metadata": {},
   "source": [
    "Consiste em gerar dados sintéticos (não duplicados) da classe minoritária a partir de vizinhos.Ele calcula quais são os vizinhos mais próximos e as características desses vizinhos para criar novos dados."
   ]
  },
  {
   "cell_type": "code",
   "execution_count": 36,
   "metadata": {},
   "outputs": [
    {
     "data": {
      "image/png": "[encoded data removed]",
      "text/plain": [
       "<Figure size 432x288 with 1 Axes>"
      ]
     },
     "metadata": {},
     "output_type": "display_data"
    }
   ],
   "source": [
    "# Criando a instancia\n",
    "smt = SMOTE()\n",
    "\n",
    "# Carregando os dados\n",
    "array = VarTreinoPadronizadas[fs].values\n",
    "\n",
    "# Separando o array em componentes de input e output\n",
    "X = array[:,0:5]\n",
    "Y = targetTreino\n",
    "\n",
    "# Realizando o rebalanceamento das classes\n",
    "VarTreinoSMOTE, targetTreinoSMOTE = smt.fit_sample(X, Y)\n",
    "\n",
    "sns.countplot(targetTreinoSMOTE)\n",
    "plt.title('Classe rebalanceade Depois do SMOTE')\n",
    "plt.show()"
   ]
  },
  {
   "cell_type": "markdown",
   "metadata": {},
   "source": [
    "### Dados Padronizados e Rebalanceados com SMOTE"
   ]
  },
  {
   "cell_type": "code",
   "execution_count": 37,
   "metadata": {},
   "outputs": [
    {
     "name": "stdout",
     "output_type": "stream",
     "text": [
      "LR: 0.726140 (0.028380)\n",
      "LDA: 0.723860 (0.032598)\n",
      "NB: 0.767895 (0.088363)\n",
      "KNN: 0.881930 (0.029711)\n",
      "CART: 0.876842 (0.020336)\n",
      "SVM: 0.874912 (0.015336)\n",
      "XGBoost: 0.902632 (0.013228)\n"
     ]
    },
    {
     "data": {
      "image/png": "[encoded data removed]",
      "text/plain": [
       "<Figure size 432x288 with 1 Axes>"
      ]
     },
     "metadata": {},
     "output_type": "display_data"
    }
   ],
   "source": [
    "# Carregando os dados\n",
    "array = VarTreinoSMOTE\n",
    "\n",
    "# Separando o array em componentes de input e output\n",
    "X = array[:,0:5]\n",
    "Y = targetTreinoSMOTE\n",
    "\n",
    "# Definindo os valores para os folds\n",
    "num_folds = 10\n",
    "seed = 7\n",
    "\n",
    "# Separando os dados em folds\n",
    "kfold = KFold(num_folds, True, random_state = seed)\n",
    "\n",
    "# Preparando a lista de modelos\n",
    "modelos = []\n",
    "modelos.append(('LR', LogisticRegression()))\n",
    "modelos.append(('LDA', LinearDiscriminantAnalysis()))\n",
    "modelos.append(('NB', GaussianNB()))\n",
    "modelos.append(('KNN', KNeighborsClassifier()))\n",
    "modelos.append(('CART', DecisionTreeClassifier()))\n",
    "modelos.append(('SVM', SVC()))\n",
    "modelos.append(('XGBoost', xgb.XGBClassifier()))\n",
    "\n",
    "# Avaliando cada modelo em um loop\n",
    "resultados = []\n",
    "nomes = []\n",
    "\n",
    "for nome, modelo in modelos:\n",
    "    kfold = KFold(n_splits = num_folds, random_state = seed)\n",
    "    cv_results = cross_val_score(modelo, X, Y, cv = kfold, scoring = 'accuracy')\n",
    "    resultados.append(cv_results)\n",
    "    nomes.append(nome)\n",
    "    msg = \"%s: %f (%f)\" % (nome, cv_results.mean(), cv_results.std())\n",
    "    print(msg)\n",
    "\n",
    "# Boxplot para comparar os algoritmos\n",
    "fig = plt.figure()\n",
    "fig.suptitle('Comparação de Algoritmos de Classificação')\n",
    "ax = fig.add_subplot(111)\n",
    "plt.boxplot(resultados)\n",
    "ax.set_xticklabels(nomes)\n",
    "plt.show()"
   ]
  },
  {
   "cell_type": "markdown",
   "metadata": {},
   "source": [
    "### Avalição Detalhada dos Melhores Modelos"
   ]
  },
  {
   "cell_type": "markdown",
   "metadata": {},
   "source": [
    "Na primeira fase de teste, podemos ver que os Dados Padronizados obtiveram uma melhor performance comparado aos outros modelos.\n",
    "Para decidir qual é o melhor modelo irei utilizar alguns indicadores chaves"
   ]
  },
  {
   "cell_type": "markdown",
   "metadata": {},
   "source": [
    "E para poder comparar com os Dados rebalanceados irei utilizar alguns outros indicadores para me ajudar"
   ]
  },
  {
   "cell_type": "markdown",
   "metadata": {},
   "source": [
    "##### XGBoost"
   ]
  },
  {
   "cell_type": "code",
   "execution_count": 38,
   "metadata": {},
   "outputs": [
    {
     "name": "stdout",
     "output_type": "stream",
     "text": [
      "Precisão do Modelo sem SMOTE: 91.210\n"
     ]
    }
   ],
   "source": [
    "# Acurracia do Modelo\n",
    "\n",
    "# Carregando os dados\n",
    "array = VarTreinoPadronizadas[fs].values\n",
    "\n",
    "# Separando o array em componentes de input e output\n",
    "X = array[:,0:5]\n",
    "Y = targetTreino\n",
    "\n",
    "# Definindo os valores para os folds\n",
    "num_folds = 10\n",
    "seed = 7\n",
    "\n",
    "# Separando os dados em folds\n",
    "kfold = KFold(num_folds, True, random_state = seed)\n",
    "\n",
    "# Criando o modelo\n",
    "model = xgb.XGBClassifier()\n",
    "\n",
    "# Cross Validation\n",
    "resultado = cross_val_score(model, X, Y, cv = kfold, scoring = 'accuracy')\n",
    "PrecisaoXgb = resultado.mean() * 100\n",
    "\n",
    "# Print do resultado\n",
    "print(\"Precisão do Modelo sem SMOTE: %.3f\" % (resultado.mean() * 100))"
   ]
  },
  {
   "cell_type": "code",
   "execution_count": 39,
   "metadata": {},
   "outputs": [
    {
     "name": "stdout",
     "output_type": "stream",
     "text": [
      "Precisão do Modelo com SMOTE: 91.035\n"
     ]
    }
   ],
   "source": [
    "# Acurracia do Modelo\n",
    "\n",
    "# Carregando os dados\n",
    "array = VarTreinoSMOTE\n",
    "\n",
    "# Separando o array em componentes de input e output\n",
    "X = array[:,0:5]\n",
    "Y = targetTreinoSMOTE\n",
    "\n",
    "# Definindo os valores para os folds\n",
    "num_folds = 10\n",
    "seed = 7\n",
    "\n",
    "# Separando os dados em folds\n",
    "kfold = KFold(num_folds, True, random_state = seed)\n",
    "\n",
    "# Criando o modelo\n",
    "model = xgb.XGBClassifier()\n",
    "\n",
    "# Cross Validation\n",
    "resultado = cross_val_score(model, X, Y, cv = kfold, scoring = 'accuracy')\n",
    "PrecisaoXgb = resultado.mean() * 100\n",
    "\n",
    "# Print do resultado\n",
    "print(\"Precisão do Modelo com SMOTE: %.3f\" % (resultado.mean() * 100))"
   ]
  },
  {
   "cell_type": "markdown",
   "metadata": {},
   "source": [
    "Ou seja, podemos ver que com a utilização do SMOTE temos uma piora na precisão dos dados"
   ]
  },
  {
   "cell_type": "markdown",
   "metadata": {},
   "source": [
    "##### Comparando Modelos"
   ]
  },
  {
   "cell_type": "markdown",
   "metadata": {},
   "source": [
    "Para os Testes vou apenas utilizar três modelos:\n",
    "XGBoost;\n",
    "NB"
   ]
  },
  {
   "cell_type": "code",
   "execution_count": 40,
   "metadata": {},
   "outputs": [
    {
     "name": "stdout",
     "output_type": "stream",
     "text": [
      "AUC: 89.674\n"
     ]
    }
   ],
   "source": [
    "# Carregando os dados\n",
    "array = VarTreinoPadronizadas[fs].values\n",
    "\n",
    "# Separando o array em componentes de input e output\n",
    "X = array[:,0:5]\n",
    "Y = targetTreino\n",
    "\n",
    "# Definindo os valores para os folds\n",
    "num_folds = 10\n",
    "seed = 7\n",
    "\n",
    "# Separando os dados em folds\n",
    "kfold = KFold(num_folds, True, random_state = seed)\n",
    "\n",
    "# Criando o modelo\n",
    "model = xgb.XGBClassifier()\n",
    "\n",
    "# Cross Validation\n",
    "resultado = cross_val_score(model, X, Y, cv = kfold, scoring = 'roc_auc')\n",
    "ROCXgb = resultado.mean() * 100\n",
    "\n",
    "# Print do resultado\n",
    "print(\"AUC: %.3f\" % (resultado.mean() * 100))"
   ]
  },
  {
   "cell_type": "code",
   "execution_count": 41,
   "metadata": {},
   "outputs": [
    {
     "name": "stdout",
     "output_type": "stream",
     "text": [
      "[[903  34]\n",
      " [ 71  92]]\n"
     ]
    }
   ],
   "source": [
    "# Confusion Matrix\n",
    "# Permite verificar a acurácia em um formato de tabela\n",
    "# Definindo o tamanho do conjunto de dados\n",
    "teste_size = 0.33\n",
    "seed = 7\n",
    "\n",
    "# Dividindo os dados em treino e teste\n",
    "X_treino, X_teste, Y_treino, Y_teste = train_test_split(VarTreinoPadronizadas[fs], targetTreino, test_size = teste_size, \n",
    "                                                        random_state = seed)\n",
    "\n",
    "# Criando o modelo\n",
    "model = xgb.XGBClassifier()\n",
    "model.fit(X_treino, Y_treino)\n",
    "\n",
    "# Fazendo as previsões e construindo a Confusion Matrix\n",
    "previsoes = model.predict(X_teste)\n",
    "matrixXgb = confusion_matrix(Y_teste, previsoes)\n",
    "\n",
    "# Imprimindo a Confusion Matrix\n",
    "print(matrixXgb)"
   ]
  },
  {
   "cell_type": "code",
   "execution_count": 42,
   "metadata": {},
   "outputs": [
    {
     "name": "stdout",
     "output_type": "stream",
     "text": [
      "              precision    recall  f1-score   support\n",
      "\n",
      "           0       0.93      0.96      0.95       937\n",
      "           1       0.73      0.56      0.64       163\n",
      "\n",
      "    accuracy                           0.90      1100\n",
      "   macro avg       0.83      0.76      0.79      1100\n",
      "weighted avg       0.90      0.90      0.90      1100\n",
      "\n"
     ]
    }
   ],
   "source": [
    "# Relatório de Classificação\n",
    "\n",
    "# Fazendo as previsões e construindo o relatório\n",
    "previsoes = model.predict(X_teste)\n",
    "reportXgb = classification_report(Y_teste, previsoes)\n",
    "\n",
    "# Imprimindo o relatório\n",
    "print(reportXgb)"
   ]
  },
  {
   "cell_type": "markdown",
   "metadata": {},
   "source": [
    "##### Naive Bayes"
   ]
  },
  {
   "cell_type": "code",
   "execution_count": 43,
   "metadata": {},
   "outputs": [
    {
     "name": "stdout",
     "output_type": "stream",
     "text": [
      "AUC: 84.977\n"
     ]
    }
   ],
   "source": [
    "# Carregando os dados\n",
    "array = VarTreinoPadronizadas[fs].values\n",
    "\n",
    "# Separando o array em componentes de input e output\n",
    "X = array[:,0:5]\n",
    "Y = targetTreino\n",
    "\n",
    "# Definindo os valores para os folds\n",
    "num_folds = 10\n",
    "seed = 7\n",
    "\n",
    "# Separando os dados em folds\n",
    "kfold = KFold(num_folds, True, random_state = seed)\n",
    "\n",
    "# Criando o modelo\n",
    "model = GaussianNB()\n",
    "\n",
    "# Cross Validation\n",
    "resultado = cross_val_score(model, X, Y, cv = kfold, scoring = 'roc_auc')\n",
    "ROCXnb = resultado.mean() * 100\n",
    "\n",
    "# Print do resultado\n",
    "print(\"AUC: %.3f\" % (resultado.mean() * 100))"
   ]
  },
  {
   "cell_type": "code",
   "execution_count": 44,
   "metadata": {},
   "outputs": [
    {
     "name": "stdout",
     "output_type": "stream",
     "text": [
      "[[868  69]\n",
      " [ 96  67]]\n"
     ]
    }
   ],
   "source": [
    "# Confusion Matrix\n",
    "# Permite verificar a acurácia em um formato de tabela\n",
    "# Definindo o tamanho do conjunto de dados\n",
    "teste_size = 0.33\n",
    "seed = 7\n",
    "\n",
    "# Dividindo os dados em treino e teste\n",
    "X_treino, X_teste, Y_treino, Y_teste = train_test_split(VarTreinoPadronizadas[fs], targetTreino, test_size = teste_size, \n",
    "                                                        random_state = seed)\n",
    "\n",
    "# Criando o modelo\n",
    "model = GaussianNB()\n",
    "model.fit(X_treino, Y_treino)\n",
    "\n",
    "# Fazendo as previsões e construindo a Confusion Matrix\n",
    "previsoes = model.predict(X_teste)\n",
    "matrixnb = confusion_matrix(Y_teste, previsoes)\n",
    "\n",
    "# Imprimindo a Confusion Matrix\n",
    "print(matrixnb)"
   ]
  },
  {
   "cell_type": "code",
   "execution_count": 45,
   "metadata": {},
   "outputs": [
    {
     "name": "stdout",
     "output_type": "stream",
     "text": [
      "              precision    recall  f1-score   support\n",
      "\n",
      "           0       0.90      0.93      0.91       937\n",
      "           1       0.49      0.41      0.45       163\n",
      "\n",
      "    accuracy                           0.85      1100\n",
      "   macro avg       0.70      0.67      0.68      1100\n",
      "weighted avg       0.84      0.85      0.84      1100\n",
      "\n"
     ]
    }
   ],
   "source": [
    "# Relatório de Classificação\n",
    "\n",
    "# Fazendo as previsões e construindo o relatório\n",
    "previsoes = model.predict(X_teste)\n",
    "reportnb = classification_report(Y_teste, previsoes)\n",
    "\n",
    "# Imprimindo o relatório\n",
    "print(reportnb)"
   ]
  },
  {
   "cell_type": "markdown",
   "metadata": {},
   "source": [
    "### Realizando a comparação entre os modelos"
   ]
  },
  {
   "cell_type": "code",
   "execution_count": 46,
   "metadata": {},
   "outputs": [
    {
     "name": "stdout",
     "output_type": "stream",
     "text": [
      "NB 84.977\n",
      "XGB 89.674\n"
     ]
    }
   ],
   "source": [
    "print('NB', round(ROCXnb, 3))\n",
    "print('XGB', round(ROCXgb,3))"
   ]
  },
  {
   "cell_type": "code",
   "execution_count": 47,
   "metadata": {},
   "outputs": [
    {
     "name": "stdout",
     "output_type": "stream",
     "text": [
      "\t NB\n",
      "[[868  69]\n",
      " [ 96  67]] \n",
      "\n",
      "\t XGB\n",
      "[[903  34]\n",
      " [ 71  92]]\n"
     ]
    }
   ],
   "source": [
    "print('\\t NB')\n",
    "print(matrixnb, '\\n')\n",
    "print('\\t XGB')\n",
    "print(matrixXgb)"
   ]
  },
  {
   "cell_type": "code",
   "execution_count": 48,
   "metadata": {},
   "outputs": [
    {
     "name": "stdout",
     "output_type": "stream",
     "text": [
      "\t \t NB\n",
      "              precision    recall  f1-score   support\n",
      "\n",
      "           0       0.90      0.93      0.91       937\n",
      "           1       0.49      0.41      0.45       163\n",
      "\n",
      "    accuracy                           0.85      1100\n",
      "   macro avg       0.70      0.67      0.68      1100\n",
      "weighted avg       0.84      0.85      0.84      1100\n",
      " \n",
      "\n",
      "\t \t XGB\n",
      "              precision    recall  f1-score   support\n",
      "\n",
      "           0       0.93      0.96      0.95       937\n",
      "           1       0.73      0.56      0.64       163\n",
      "\n",
      "    accuracy                           0.90      1100\n",
      "   macro avg       0.83      0.76      0.79      1100\n",
      "weighted avg       0.90      0.90      0.90      1100\n",
      "\n"
     ]
    }
   ],
   "source": [
    "print('\\t \\t NB')\n",
    "print(reportnb, '\\n')\n",
    "print('\\t \\t XGB')\n",
    "print(reportXgb)"
   ]
  },
  {
   "cell_type": "markdown",
   "metadata": {},
   "source": [
    "Como podemos ver, o algoritimo XGB conseguiu se sair superior em todas as metricas utilizadas. Por este motivo vou utilizar esse algortimo para a próxima etapa"
   ]
  },
  {
   "cell_type": "markdown",
   "metadata": {},
   "source": [
    "## Realizando Previsões no Dataset de Teste"
   ]
  },
  {
   "cell_type": "markdown",
   "metadata": {},
   "source": [
    "#### Realizando o pré processamento nos Dados de Teste"
   ]
  },
  {
   "cell_type": "code",
   "execution_count": 49,
   "metadata": {},
   "outputs": [],
   "source": [
    "# Para facilitar a previsão dos dados, irei transformar as variaveis yes/no por 1/0\n",
    "test['churn'] = test['churn'].replace(['no', 'yes'], [0,1])\n",
    "\n",
    "# Irei aplicar a memsa logíca para todos as variaveis que são yes/no\n",
    "test['international_plan'] = test['international_plan'].replace(['no', 'yes'], [0,1])\n",
    "test['voice_mail_plan'] = test['voice_mail_plan'].replace(['no', 'yes'], [0,1])\n",
    "\n",
    "varTest = test[fs]\n",
    "\n",
    "Standard = StandardScaler()\n",
    "\n",
    "# Aplicando a escala no Dataset\n",
    "VarTestPadronizadas = Standard.fit_transform(varTest)\n",
    "\n",
    "# Criando um DataFrame com os resultados obtidos.\n",
    "VarTestPadronizadas = pd.DataFrame(data = VarTestPadronizadas, columns = varTest.columns)\n",
    "VarTestPadronizadas['churn'] = test['churn']\n",
    "\n",
    "\n",
    "VarTeste, targetTest = VarTestPadronizadas.drop('churn', axis = 1), np.array(VarTestPadronizadas.churn).ravel()"
   ]
  },
  {
   "cell_type": "markdown",
   "metadata": {},
   "source": [
    "### Realizando treinamento do Modelo"
   ]
  },
  {
   "cell_type": "code",
   "execution_count": 50,
   "metadata": {},
   "outputs": [],
   "source": [
    "# Carregando os dados de treino\n",
    "array = VarTeste.values\n",
    "\n",
    "# Separando o array em componentes de input e output\n",
    "X_Teste = array[:,0:5]\n",
    "Y_Teste = targetTest\n",
    "\n",
    "# Carregando os dados de treino\n",
    "array = VarTreinoPadronizadas[fs].values\n",
    "\n",
    "# Separando o array em componentes de input e output\n",
    "X_Treino = array[:,0:5]\n",
    "Y_Treino = targetTreino\n",
    "\n",
    "# Criando o modelo\n",
    "model = xgb.XGBClassifier()\n",
    "\n",
    "# Cross Validation\n",
    "model.fit(X_Treino, Y_Treino)\n",
    "\n",
    "# Fazendo as previsões\n",
    "previsoes = model.predict(X_Teste)"
   ]
  },
  {
   "cell_type": "markdown",
   "metadata": {},
   "source": [
    "### Realizando Avaliação do Modelo"
   ]
  },
  {
   "cell_type": "code",
   "execution_count": 51,
   "metadata": {
    "scrolled": true
   },
   "outputs": [
    {
     "name": "stdout",
     "output_type": "stream",
     "text": [
      "AUC: 76.069\n"
     ]
    },
    {
     "data": {
      "image/png": "[encoded data removed]",
      "text/plain": [
       "<Figure size 432x288 with 1 Axes>"
      ]
     },
     "metadata": {},
     "output_type": "display_data"
    }
   ],
   "source": [
    "# Calculando a curva ROC\n",
    "roc_auc = roc_auc_score(Y_Teste, previsoes)\n",
    "\n",
    "# Print do resultado\n",
    "print(\"AUC: %.3f\" % (roc_auc * 100))\n",
    "\n",
    "# Imprimindo o gráfico da curva ROC\n",
    "def plot_roc_curve(fper, tper):\n",
    "    plt.plot(fper, tper, color='red', label='ROC')\n",
    "    plt.plot([0, 1], [0, 1], color='green', linestyle='--')\n",
    "    plt.xlabel('False Positive Rate')\n",
    "    plt.ylabel('True Positive Rate')\n",
    "    plt.title('Receiver Operating Characteristic Curve')\n",
    "    plt.legend()\n",
    "    plt.show()\n",
    "\n",
    "fper, tper, thresholds = roc_curve(Y_Teste, previsoes)    \n",
    "plot_roc_curve(fper, tper)"
   ]
  },
  {
   "cell_type": "code",
   "execution_count": 52,
   "metadata": {},
   "outputs": [
    {
     "name": "stdout",
     "output_type": "stream",
     "text": [
      "[[1403   40]\n",
      " [ 101  123]]\n"
     ]
    }
   ],
   "source": [
    "# Calculando a Confusion Matrix\n",
    "matrixXGB = confusion_matrix(Y_Teste, previsoes)\n",
    "\n",
    "# Prints dos resultados\n",
    "print(matrixXGB)"
   ]
  },
  {
   "cell_type": "markdown",
   "metadata": {},
   "source": [
    "# Otimização De Ajustes"
   ]
  },
  {
   "cell_type": "code",
   "execution_count": 53,
   "metadata": {},
   "outputs": [
    {
     "name": "stdout",
     "output_type": "stream",
     "text": [
      "Fitting 10 folds for each of 648 candidates, totalling 6480 fits\n"
     ]
    },
    {
     "name": "stderr",
     "output_type": "stream",
     "text": [
      "[Parallel(n_jobs=-1)]: Using backend LokyBackend with 8 concurrent workers.\n",
      "[Parallel(n_jobs=-1)]: Done  34 tasks      | elapsed:    7.0s\n",
      "[Parallel(n_jobs=-1)]: Done 184 tasks      | elapsed:   26.5s\n",
      "[Parallel(n_jobs=-1)]: Done 434 tasks      | elapsed:   57.2s\n",
      "[Parallel(n_jobs=-1)]: Done 784 tasks      | elapsed:  1.8min\n",
      "[Parallel(n_jobs=-1)]: Done 1234 tasks      | elapsed:  2.9min\n",
      "[Parallel(n_jobs=-1)]: Done 1784 tasks      | elapsed:  4.2min\n",
      "[Parallel(n_jobs=-1)]: Done 2434 tasks      | elapsed:  5.8min\n",
      "[Parallel(n_jobs=-1)]: Done 3184 tasks      | elapsed:  7.7min\n",
      "[Parallel(n_jobs=-1)]: Done 4034 tasks      | elapsed:  9.8min\n",
      "[Parallel(n_jobs=-1)]: Done 4984 tasks      | elapsed: 12.2min\n",
      "[Parallel(n_jobs=-1)]: Done 6034 tasks      | elapsed: 15.0min\n",
      "[Parallel(n_jobs=-1)]: Done 6480 out of 6480 | elapsed: 16.1min finished\n"
     ]
    },
    {
     "name": "stdout",
     "output_type": "stream",
     "text": [
      "\n",
      "Melhores Parâmetros para o Modelo:\n",
      "\n",
      " XGBClassifier(base_score=0.5, booster='gbtree', colsample_bylevel=1,\n",
      "              colsample_bynode=1, colsample_bytree=0.85, gamma=5, gpu_id=-1,\n",
      "              importance_type='gain', interaction_constraints='',\n",
      "              learning_rate=0.05, max_delta_step=0, max_depth=6,\n",
      "              min_child_weight=1, missing=nan, monotone_constraints='()',\n",
      "              n_estimators=340, n_jobs=4, nthread=4, num_parallel_tree=1,\n",
      "              random_state=100, reg_alpha=0, reg_lambda=1, scale_pos_weight=1,\n",
      "              seed=100, subsample=0.94, tree_method='exact',\n",
      "              validate_parameters=1, verbosity=None)\n"
     ]
    }
   ],
   "source": [
    "# Definindo qual conjunto de dados de treino, já escalado, deve ser utilizado e a sua variável target.\n",
    "X = VarTreinoPadronizadas[fs]\n",
    "Y = targetTreino\n",
    "\n",
    "# Definindo qual conjunto de dados de teste, já escalado, deve ser utilizado e a sua variável target.\n",
    "testX = VarTeste\n",
    "\n",
    "# Definindo os valores que devem ser testados, em cada um dos parâmetros do modelo especificado.\n",
    "paramGrid = dict (\n",
    "    missing          = [np.nan],\n",
    "    max_depth        = [3, 4, 6], \n",
    "    n_estimators     = [340, 350, 360], \n",
    "    learning_rate    = [0.05, 0.15, 0.03], \n",
    "    nthread          = [4], \n",
    "    subsample        = [0.94, 0.95], \n",
    "    colsample_bytree = [ 0.5 , 0.7, 0.85], \n",
    "    seed             = [100],\n",
    "    gamma            = [0.5, 1, 2, 5]\n",
    ")\n",
    "\n",
    "# Criando uma instância da classe do modelo Random Forest.\n",
    "model = xgb.XGBClassifier()\n",
    "\n",
    "# Criando o grid, para fazer a busca dos melhores parâmetros para o modelo.\n",
    "grid = GridSearchCV(estimator = model, param_grid = paramGrid, cv = 10, verbose = True, n_jobs = -1)\n",
    "\n",
    "# Buscando pelos melhores parâmetros para o modelo.\n",
    "grid.fit(X, Y)\n",
    "\n",
    "# Exibindo a configuração, do melhor modelo treinado.\n",
    "print(\"\\n\" + \"Melhores Parâmetros para o Modelo:\" + \"\\n\\n\", grid.best_estimator_)"
   ]
  },
  {
   "cell_type": "code",
   "execution_count": 54,
   "metadata": {},
   "outputs": [
    {
     "name": "stdout",
     "output_type": "stream",
     "text": [
      "[0]\tvalidation_0-auc:0.76207\n",
      "Will train until validation_0-auc hasn't improved in 20 rounds.\n",
      "[1]\tvalidation_0-auc:0.88577\n",
      "[2]\tvalidation_0-auc:0.88838\n",
      "[3]\tvalidation_0-auc:0.88647\n",
      "[4]\tvalidation_0-auc:0.88638\n",
      "[5]\tvalidation_0-auc:0.90245\n",
      "[6]\tvalidation_0-auc:0.90033\n",
      "[7]\tvalidation_0-auc:0.90222\n",
      "[8]\tvalidation_0-auc:0.90207\n",
      "[9]\tvalidation_0-auc:0.90224\n",
      "[10]\tvalidation_0-auc:0.90187\n",
      "[11]\tvalidation_0-auc:0.90125\n",
      "[12]\tvalidation_0-auc:0.90198\n",
      "[13]\tvalidation_0-auc:0.90232\n",
      "[14]\tvalidation_0-auc:0.90281\n",
      "[15]\tvalidation_0-auc:0.90260\n",
      "[16]\tvalidation_0-auc:0.90325\n",
      "[17]\tvalidation_0-auc:0.90315\n",
      "[18]\tvalidation_0-auc:0.90232\n",
      "[19]\tvalidation_0-auc:0.90346\n",
      "[20]\tvalidation_0-auc:0.90476\n",
      "[21]\tvalidation_0-auc:0.90397\n",
      "[22]\tvalidation_0-auc:0.90419\n",
      "[23]\tvalidation_0-auc:0.90428\n",
      "[24]\tvalidation_0-auc:0.90469\n",
      "[25]\tvalidation_0-auc:0.90438\n",
      "[26]\tvalidation_0-auc:0.90403\n",
      "[27]\tvalidation_0-auc:0.90375\n",
      "[28]\tvalidation_0-auc:0.90396\n",
      "[29]\tvalidation_0-auc:0.90433\n",
      "[30]\tvalidation_0-auc:0.90406\n",
      "[31]\tvalidation_0-auc:0.90428\n",
      "[32]\tvalidation_0-auc:0.90789\n",
      "[33]\tvalidation_0-auc:0.90670\n",
      "[34]\tvalidation_0-auc:0.90665\n",
      "[35]\tvalidation_0-auc:0.90691\n",
      "[36]\tvalidation_0-auc:0.90729\n",
      "[37]\tvalidation_0-auc:0.90731\n",
      "[38]\tvalidation_0-auc:0.90732\n",
      "[39]\tvalidation_0-auc:0.90789\n",
      "[40]\tvalidation_0-auc:0.90755\n",
      "[41]\tvalidation_0-auc:0.90775\n",
      "[42]\tvalidation_0-auc:0.90800\n",
      "[43]\tvalidation_0-auc:0.90813\n",
      "[44]\tvalidation_0-auc:0.90811\n",
      "[45]\tvalidation_0-auc:0.90760\n",
      "[46]\tvalidation_0-auc:0.90782\n",
      "[47]\tvalidation_0-auc:0.90765\n",
      "[48]\tvalidation_0-auc:0.90766\n",
      "[49]\tvalidation_0-auc:0.90781\n",
      "[50]\tvalidation_0-auc:0.90793\n",
      "[51]\tvalidation_0-auc:0.90785\n",
      "[52]\tvalidation_0-auc:0.90779\n",
      "[53]\tvalidation_0-auc:0.90778\n",
      "[54]\tvalidation_0-auc:0.90786\n",
      "[55]\tvalidation_0-auc:0.90777\n",
      "[56]\tvalidation_0-auc:0.90778\n",
      "[57]\tvalidation_0-auc:0.90819\n",
      "[58]\tvalidation_0-auc:0.90832\n",
      "[59]\tvalidation_0-auc:0.90805\n",
      "[60]\tvalidation_0-auc:0.90790\n",
      "[61]\tvalidation_0-auc:0.90771\n",
      "[62]\tvalidation_0-auc:0.90798\n",
      "[63]\tvalidation_0-auc:0.90793\n",
      "[64]\tvalidation_0-auc:0.90853\n",
      "[65]\tvalidation_0-auc:0.90851\n",
      "[66]\tvalidation_0-auc:0.90849\n",
      "[67]\tvalidation_0-auc:0.90858\n",
      "[68]\tvalidation_0-auc:0.90896\n",
      "[69]\tvalidation_0-auc:0.90893\n",
      "[70]\tvalidation_0-auc:0.90908\n",
      "[71]\tvalidation_0-auc:0.90906\n",
      "[72]\tvalidation_0-auc:0.90933\n",
      "[73]\tvalidation_0-auc:0.90896\n",
      "[74]\tvalidation_0-auc:0.90933\n",
      "[75]\tvalidation_0-auc:0.90930\n",
      "[76]\tvalidation_0-auc:0.90953\n",
      "[77]\tvalidation_0-auc:0.90953\n",
      "[78]\tvalidation_0-auc:0.90886\n",
      "[79]\tvalidation_0-auc:0.90894\n",
      "[80]\tvalidation_0-auc:0.90903\n",
      "[81]\tvalidation_0-auc:0.90881\n",
      "[82]\tvalidation_0-auc:0.90881\n",
      "[83]\tvalidation_0-auc:0.90881\n",
      "[84]\tvalidation_0-auc:0.90838\n",
      "[85]\tvalidation_0-auc:0.90846\n",
      "[86]\tvalidation_0-auc:0.90838\n",
      "[87]\tvalidation_0-auc:0.90810\n",
      "[88]\tvalidation_0-auc:0.90915\n",
      "[89]\tvalidation_0-auc:0.90915\n",
      "[90]\tvalidation_0-auc:0.90902\n",
      "[91]\tvalidation_0-auc:0.90922\n",
      "[92]\tvalidation_0-auc:0.90936\n",
      "[93]\tvalidation_0-auc:0.90941\n",
      "[94]\tvalidation_0-auc:0.90954\n",
      "[95]\tvalidation_0-auc:0.91090\n",
      "[96]\tvalidation_0-auc:0.91090\n",
      "[97]\tvalidation_0-auc:0.91128\n",
      "[98]\tvalidation_0-auc:0.91122\n",
      "[99]\tvalidation_0-auc:0.91109\n",
      "[100]\tvalidation_0-auc:0.91111\n",
      "[101]\tvalidation_0-auc:0.91111\n",
      "[102]\tvalidation_0-auc:0.91109\n",
      "[103]\tvalidation_0-auc:0.91109\n",
      "[104]\tvalidation_0-auc:0.91122\n",
      "[105]\tvalidation_0-auc:0.91066\n",
      "[106]\tvalidation_0-auc:0.91078\n",
      "[107]\tvalidation_0-auc:0.91078\n",
      "[108]\tvalidation_0-auc:0.91065\n",
      "[109]\tvalidation_0-auc:0.91065\n",
      "[110]\tvalidation_0-auc:0.91065\n",
      "[111]\tvalidation_0-auc:0.91075\n",
      "[112]\tvalidation_0-auc:0.91075\n",
      "[113]\tvalidation_0-auc:0.91075\n",
      "[114]\tvalidation_0-auc:0.91075\n",
      "[115]\tvalidation_0-auc:0.91044\n",
      "[116]\tvalidation_0-auc:0.91044\n",
      "[117]\tvalidation_0-auc:0.91044\n",
      "Stopping. Best iteration:\n",
      "[97]\tvalidation_0-auc:0.91128\n",
      "\n"
     ]
    },
    {
     "data": {
      "text/plain": [
       "XGBClassifier(base_score=0.5, booster='gbtree', colsample_bylevel=1,\n",
       "              colsample_bynode=1, colsample_bytree=0.85, gamma=5, gpu_id=-1,\n",
       "              importance_type='gain', interaction_constraints='',\n",
       "              learning_rate=0.05, max_delta_step=0, max_depth=6,\n",
       "              min_child_weight=1, missing=nan, monotone_constraints='()',\n",
       "              n_estimators=340, n_jobs=4, nthread=4, num_parallel_tree=1,\n",
       "              random_state=100, reg_alpha=0, reg_lambda=1, scale_pos_weight=1,\n",
       "              seed=100, subsample=0.94, tree_method='exact',\n",
       "              validate_parameters=1, verbosity=None)"
      ]
     },
     "execution_count": 54,
     "metadata": {},
     "output_type": "execute_result"
    }
   ],
   "source": [
    "# Criando o modelo, com a melhor configuração encontrada.\n",
    "classifierXGB = grid.best_estimator_\n",
    "\n",
    "# Treinando o modelo.\n",
    "classifierXGB.fit (\n",
    "    X                     = X_Treino, \n",
    "    y                     = Y_Treino,\n",
    "    early_stopping_rounds = 20,\n",
    "    eval_metric           = \"auc\", \n",
    "    eval_set              = [(X_Teste, Y_Teste)]\n",
    ")\n"
   ]
  },
  {
   "cell_type": "markdown",
   "metadata": {},
   "source": [
    "##### Avalização do Modelo Otimizado"
   ]
  },
  {
   "cell_type": "code",
   "execution_count": 55,
   "metadata": {},
   "outputs": [
    {
     "name": "stdout",
     "output_type": "stream",
     "text": [
      "AUC: 74.688\n"
     ]
    },
    {
     "data": {
      "image/png": "[encoded data removed]",
      "text/plain": [
       "<Figure size 432x288 with 1 Axes>"
      ]
     },
     "metadata": {},
     "output_type": "display_data"
    }
   ],
   "source": [
    "previsoes = classifierXGB.predict(X_Teste)\n",
    "\n",
    "# Calculando a curva ROC\n",
    "roc_auc = roc_auc_score(Y_Teste, previsoes)\n",
    "\n",
    "# Print do resultado\n",
    "print(\"AUC: %.3f\" % (roc_auc * 100))\n",
    "\n",
    "# Imprimindo o gráfico da curva ROC\n",
    "def plot_roc_curve(fper, tper):\n",
    "    plt.plot(fper, tper, color='red', label='ROC')\n",
    "    plt.plot([0, 1], [0, 1], color='green', linestyle='--')\n",
    "    plt.xlabel('False Positive Rate')\n",
    "    plt.ylabel('True Positive Rate')\n",
    "    plt.title('Receiver Operating Characteristic Curve')\n",
    "    plt.legend()\n",
    "    plt.show()\n",
    "\n",
    "fper, tper, thresholds = roc_curve(Y_Teste, previsoes)    \n",
    "plot_roc_curve(fper, tper)"
   ]
  },
  {
   "cell_type": "markdown",
   "metadata": {},
   "source": [
    "Como podemos ver, a otimização de ajustes trouxe um resultado negativo e com isso podemos concluir que o melhor modelo foi o XGBoost com os dados padronizados e sem nenhuma otimização"
   ]
  },
  {
   "cell_type": "markdown",
   "metadata": {},
   "source": [
    "Nosso Score alcançado foi de: 76.069%"
   ]
  },
  {
   "cell_type": "markdown",
   "metadata": {},
   "source": [
    "Como foi solicitado pelo cliente final que passe a probabilidade do cliente desistir ou não do plano, deixo o código abaixo para calcular a probablidade com o melhor modelo:"
   ]
  },
  {
   "cell_type": "code",
   "execution_count": 56,
   "metadata": {},
   "outputs": [
    {
     "data": {
      "text/html": [
       "<div>\n",
       "<style scoped>\n",
       "    .dataframe tbody tr th:only-of-type {\n",
       "        vertical-align: middle;\n",
       "    }\n",
       "\n",
       "    .dataframe tbody tr th {\n",
       "        vertical-align: top;\n",
       "    }\n",
       "\n",
       "    .dataframe thead th {\n",
       "        text-align: right;\n",
       "    }\n",
       "</style>\n",
       "<table border=\"1\" class=\"dataframe\">\n",
       "  <thead>\n",
       "    <tr style=\"text-align: right;\">\n",
       "      <th></th>\n",
       "      <th>PROB</th>\n",
       "    </tr>\n",
       "  </thead>\n",
       "  <tbody>\n",
       "    <tr>\n",
       "      <th>0</th>\n",
       "      <td>0.002178</td>\n",
       "    </tr>\n",
       "    <tr>\n",
       "      <th>1</th>\n",
       "      <td>0.093676</td>\n",
       "    </tr>\n",
       "    <tr>\n",
       "      <th>2</th>\n",
       "      <td>0.008808</td>\n",
       "    </tr>\n",
       "    <tr>\n",
       "      <th>3</th>\n",
       "      <td>0.001744</td>\n",
       "    </tr>\n",
       "    <tr>\n",
       "      <th>4</th>\n",
       "      <td>0.003791</td>\n",
       "    </tr>\n",
       "    <tr>\n",
       "      <th>...</th>\n",
       "      <td>...</td>\n",
       "    </tr>\n",
       "    <tr>\n",
       "      <th>1662</th>\n",
       "      <td>0.017926</td>\n",
       "    </tr>\n",
       "    <tr>\n",
       "      <th>1663</th>\n",
       "      <td>0.003210</td>\n",
       "    </tr>\n",
       "    <tr>\n",
       "      <th>1664</th>\n",
       "      <td>0.017236</td>\n",
       "    </tr>\n",
       "    <tr>\n",
       "      <th>1665</th>\n",
       "      <td>0.028226</td>\n",
       "    </tr>\n",
       "    <tr>\n",
       "      <th>1666</th>\n",
       "      <td>0.000684</td>\n",
       "    </tr>\n",
       "  </tbody>\n",
       "</table>\n",
       "<p>1667 rows × 1 columns</p>\n",
       "</div>"
      ],
      "text/plain": [
       "          PROB\n",
       "0     0.002178\n",
       "1     0.093676\n",
       "2     0.008808\n",
       "3     0.001744\n",
       "4     0.003791\n",
       "...        ...\n",
       "1662  0.017926\n",
       "1663  0.003210\n",
       "1664  0.017236\n",
       "1665  0.028226\n",
       "1666  0.000684\n",
       "\n",
       "[1667 rows x 1 columns]"
      ]
     },
     "execution_count": 56,
     "metadata": {},
     "output_type": "execute_result"
    }
   ],
   "source": [
    "# Carregando os dados de treino\n",
    "array = VarTeste.values\n",
    "\n",
    "# Separando o array em componentes de input e output\n",
    "X_Teste = array[:,0:5]\n",
    "Y_Teste = targetTest\n",
    "\n",
    "# Carregando os dados de treino\n",
    "array = VarTreinoPadronizadas[fs].values\n",
    "\n",
    "# Separando o array em componentes de input e output\n",
    "X_Treino = array[:,0:5]\n",
    "Y_Treino = targetTreino\n",
    "\n",
    "# Criando o modelo\n",
    "model = xgb.XGBClassifier()\n",
    "\n",
    "# Cross Validation\n",
    "model.fit(X_Treino, Y_Treino)\n",
    "\n",
    "# Fazendo as previsões\n",
    "previsoes = model.predict_proba(X_Teste)[:, 1]\n",
    "\n",
    "# Criando um dataframe com o as probabilidades dos clientes\n",
    "final = pd.DataFrame({\n",
    "    'PROB': previsoes})\n",
    "\n",
    "# Salvando o arquivo\n",
    "final.to_csv('previsoes/Final.csv', index = False)\n",
    "\n",
    "# Imprimindo na tela a probabilidade de cada cliente desistir do plano com os dados de teste:\n",
    "final"
   ]
  },
  {
   "cell_type": "markdown",
   "metadata": {},
   "source": [
    "# FIM"
   ]
  }
 ],
 "metadata": {
  "kernelspec": {
   "display_name": "Python 3",
   "language": "python",
   "name": "python3"
  },
  "language_info": {
   "codemirror_mode": {
    "name": "ipython",
    "version": 3
   },
   "file_extension": ".py",
   "mimetype": "text/x-python",
   "name": "python",
   "nbconvert_exporter": "python",
   "pygments_lexer": "ipython3",
   "version": "3.7.6"
  }
 },
 "nbformat": 4,
 "nbformat_minor": 4
}
